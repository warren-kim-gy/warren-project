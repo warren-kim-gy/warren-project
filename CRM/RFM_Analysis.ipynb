{
 "cells": [
  {
   "cell_type": "code",
   "execution_count": 1,
   "metadata": {},
   "outputs": [],
   "source": [
    "import datetime as dt\n",
    "import pandas as pd"
   ]
  },
  {
   "cell_type": "code",
   "execution_count": 2,
   "metadata": {},
   "outputs": [
    {
     "name": "stdout",
     "output_type": "stream",
     "text": [
      "  Invoice StockCode                          Description  Quantity   \n",
      "0  489434     85048  15CM CHRISTMAS GLASS BALL 20 LIGHTS        12  \\\n",
      "1  489434    79323P                   PINK CHERRY LIGHTS        12   \n",
      "2  489434    79323W                  WHITE CHERRY LIGHTS        12   \n",
      "3  489434     22041         RECORD FRAME 7\" SINGLE SIZE         48   \n",
      "4  489434     21232       STRAWBERRY CERAMIC TRINKET BOX        24   \n",
      "\n",
      "      InvoiceDate  Price  Customer ID         Country  \n",
      "0  12/1/2009 7:45   6.95      13085.0  United Kingdom  \n",
      "1  12/1/2009 7:45   6.75      13085.0  United Kingdom  \n",
      "2  12/1/2009 7:45   6.75      13085.0  United Kingdom  \n",
      "3  12/1/2009 7:45   2.10      13085.0  United Kingdom  \n",
      "4  12/1/2009 7:45   1.25      13085.0  United Kingdom  \n",
      "Dataset contains 525461 rows and 8 columns.\n",
      "Invoice             0\n",
      "StockCode           0\n",
      "Description      2928\n",
      "Quantity            0\n",
      "InvoiceDate         0\n",
      "Price               0\n",
      "Customer ID    107927\n",
      "Country             0\n",
      "dtype: int64\n"
     ]
    }
   ],
   "source": [
    "# Load the dataset (change file path as needed)\n",
    "df = pd.read_csv(\"/Users/gwangyongkim/Downloads/archive (1)/Year 2009-2010.csv\",encoding='iso-8859-9')\n",
    "\n",
    "\n",
    "# Create a copy to work with\n",
    "data = df.copy()\n",
    "\n",
    "# Display the first few rows\n",
    "print(data.head())\n",
    "\n",
    "# Shape of the dataset\n",
    "print(f\"Dataset contains {data.shape[0]} rows and {data.shape[1]} columns.\")\n",
    "\n",
    "# Check for missing values\n",
    "print(data.isnull().sum())"
   ]
  },
  {
   "cell_type": "code",
   "execution_count": 3,
   "metadata": {},
   "outputs": [],
   "source": [
    "###############################################################\n",
    "# 3. Data Preparation\n",
    "###############################################################\n",
    "\n",
    "# Remove rows with missing Customer IDs\n",
    "data.dropna(subset=['Customer ID'], inplace=True)\n",
    "\n",
    "# Remove cancelled transactions (Invoice starts with 'C')\n",
    "data = data[~data[\"Invoice\"].astype(str).str.contains(\"C\", na=False)]\n",
    "\n",
    "# Only keep transactions with positive quantities\n",
    "data = data[data[\"Quantity\"] > 0]\n",
    "\n",
    "# Create a new column for Total Price\n",
    "data[\"TotalPrice\"] = data[\"Quantity\"] * data[\"Price\"]\n",
    "\n",
    "# Ensure 'InvoiceDate' is in datetime format\n",
    "data['InvoiceDate'] = pd.to_datetime(data['InvoiceDate'])"
   ]
  },
  {
   "cell_type": "code",
   "execution_count": 4,
   "metadata": {},
   "outputs": [
    {
     "name": "stdout",
     "output_type": "stream",
     "text": [
      "           Recency    Frequency       Monetary\n",
      "count  4312.000000  4312.000000    4312.000000\n",
      "mean     91.172542     4.455705    2048.238236\n",
      "std      96.861457     8.170213    8914.481280\n",
      "min       1.000000     1.000000       2.950000\n",
      "25%      18.000000     1.000000     307.987500\n",
      "50%      53.000000     2.000000     706.020000\n",
      "75%     136.000000     5.000000    1723.142500\n",
      "max     374.000000   205.000000  349164.350000\n"
     ]
    }
   ],
   "source": [
    "###############################################################\n",
    "# 4. Calculate RFM Metrics\n",
    "###############################################################\n",
    "\n",
    "# Define the analysis date (set to a date after the last transaction)\n",
    "analysis_date = dt.datetime(2010, 12, 11)\n",
    "\n",
    "# Calculate Recency, Frequency, and Monetary metrics\n",
    "rfm = data.groupby('Customer ID').agg({\n",
    "    'InvoiceDate': lambda x: (analysis_date - x.max()).days,  # Recency\n",
    "    'Invoice': 'nunique',                                    # Frequency\n",
    "    'TotalPrice': 'sum'                                      # Monetary\n",
    "})\n",
    "\n",
    "# Rename columns for clarity\n",
    "rfm.columns = ['Recency', 'Frequency', 'Monetary']\n",
    "\n",
    "# Filter out customers with zero or negative monetary value\n",
    "rfm = rfm[rfm['Monetary'] > 0]\n",
    "\n",
    "# Display summary statistics\n",
    "print(rfm.describe())"
   ]
  },
  {
   "cell_type": "code",
   "execution_count": 5,
   "metadata": {},
   "outputs": [
    {
     "data": {
      "text/html": [
       "<div>\n",
       "<style scoped>\n",
       "    .dataframe tbody tr th:only-of-type {\n",
       "        vertical-align: middle;\n",
       "    }\n",
       "\n",
       "    .dataframe tbody tr th {\n",
       "        vertical-align: top;\n",
       "    }\n",
       "\n",
       "    .dataframe thead th {\n",
       "        text-align: right;\n",
       "    }\n",
       "</style>\n",
       "<table border=\"1\" class=\"dataframe\">\n",
       "  <thead>\n",
       "    <tr style=\"text-align: right;\">\n",
       "      <th></th>\n",
       "      <th>Recency</th>\n",
       "      <th>Frequency</th>\n",
       "      <th>Monetary</th>\n",
       "    </tr>\n",
       "    <tr>\n",
       "      <th>Customer ID</th>\n",
       "      <th></th>\n",
       "      <th></th>\n",
       "      <th></th>\n",
       "    </tr>\n",
       "  </thead>\n",
       "  <tbody>\n",
       "    <tr>\n",
       "      <th>12346.0</th>\n",
       "      <td>165</td>\n",
       "      <td>11</td>\n",
       "      <td>372.86</td>\n",
       "    </tr>\n",
       "    <tr>\n",
       "      <th>12347.0</th>\n",
       "      <td>3</td>\n",
       "      <td>2</td>\n",
       "      <td>1323.32</td>\n",
       "    </tr>\n",
       "    <tr>\n",
       "      <th>12348.0</th>\n",
       "      <td>74</td>\n",
       "      <td>1</td>\n",
       "      <td>222.16</td>\n",
       "    </tr>\n",
       "    <tr>\n",
       "      <th>12349.0</th>\n",
       "      <td>43</td>\n",
       "      <td>3</td>\n",
       "      <td>2671.14</td>\n",
       "    </tr>\n",
       "    <tr>\n",
       "      <th>12351.0</th>\n",
       "      <td>11</td>\n",
       "      <td>1</td>\n",
       "      <td>300.93</td>\n",
       "    </tr>\n",
       "  </tbody>\n",
       "</table>\n",
       "</div>"
      ],
      "text/plain": [
       "             Recency  Frequency  Monetary\n",
       "Customer ID                              \n",
       "12346.0          165         11    372.86\n",
       "12347.0            3          2   1323.32\n",
       "12348.0           74          1    222.16\n",
       "12349.0           43          3   2671.14\n",
       "12351.0           11          1    300.93"
      ]
     },
     "execution_count": 5,
     "metadata": {},
     "output_type": "execute_result"
    }
   ],
   "source": [
    "rfm.head()"
   ]
  },
  {
   "cell_type": "code",
   "execution_count": 6,
   "metadata": {},
   "outputs": [],
   "source": [
    "###############################################################\n",
    "# 5. Calculate RFM Scores\n",
    "###############################################################\n",
    "\n",
    "# Assign scores based on quantiles\n",
    "rfm[\"RecencyScore\"] = pd.qcut(rfm['Recency'], 5, labels=[5, 4, 3, 2, 1])\n",
    "rfm[\"FrequencyScore\"] = pd.qcut(rfm['Frequency'].rank(method=\"first\"), 5, labels=[1, 2, 3, 4, 5])\n",
    "rfm[\"MonetaryScore\"] = pd.qcut(rfm['Monetary'], 5, labels=[1, 2, 3, 4, 5])\n",
    "\n",
    "# Combine Recency and Frequency scores into a single RFM Score\n",
    "rfm[\"RFMScore\"] = rfm[\"RecencyScore\"].astype(str) + rfm[\"FrequencyScore\"].astype(str)"
   ]
  },
  {
   "cell_type": "code",
   "execution_count": 7,
   "metadata": {},
   "outputs": [
    {
     "name": "stdout",
     "output_type": "stream",
     "text": [
      "                        Recency  Frequency     Monetary      \n",
      "                           mean       mean         mean count\n",
      "Segment                                                      \n",
      "About to Sleep        53.819242   1.201166   441.320000   343\n",
      "At Risk              152.158756   3.073650  1188.878316   611\n",
      "Cannot Lose          124.116883   9.116883  4099.450000    77\n",
      "Champions              7.119155  12.553544  6852.264167   663\n",
      "Hibernating          213.885714   1.126108   403.977836  1015\n",
      "Loyal Customers       36.287062   6.830189  2746.067353   742\n",
      "Need Attention        53.265700   2.449275  1060.357005   207\n",
      "New Customers          8.580000   1.000000   386.199200    50\n",
      "Potential Loyalists   18.793037   2.017408   729.510986   517\n",
      "Promising             25.747126   1.000000   367.086782    87\n"
     ]
    }
   ],
   "source": [
    "###############################################################\n",
    "# 6. Segment Customers\n",
    "###############################################################\n",
    "\n",
    "# Define RFM segment mapping\n",
    "segment_map = {\n",
    "    r'[1-2][1-2]': 'Hibernating',\n",
    "    r'[1-2][3-4]': 'At Risk',\n",
    "    r'[1-2]5': 'Cannot Lose',\n",
    "    r'3[1-2]': 'About to Sleep',\n",
    "    r'33': 'Need Attention',\n",
    "    r'[3-4][4-5]': 'Loyal Customers',\n",
    "    r'41': 'Promising',\n",
    "    r'51': 'New Customers',\n",
    "    r'[4-5][2-3]': 'Potential Loyalists',\n",
    "    r'5[4-5]': 'Champions'\n",
    "}\n",
    "\n",
    "# Apply the mapping\n",
    "rfm['Segment'] = rfm['RFMScore'].replace(segment_map, regex=True)\n",
    "\n",
    "# Display the segments\n",
    "print(rfm.groupby('Segment').agg({\n",
    "    'Recency': 'mean',\n",
    "    'Frequency': 'mean',\n",
    "    'Monetary': ['mean', 'count']\n",
    "}))"
   ]
  },
  {
   "cell_type": "code",
   "execution_count": 8,
   "metadata": {},
   "outputs": [],
   "source": [
    "###############################################################\n",
    "# 7. Save Results to CSV\n",
    "###############################################################\n",
    "\n",
    "# Save the RFM table to a CSV file\n",
    "rfm.reset_index(inplace=True)  # Reset index to include Customer ID as a column\n",
    "rfm.to_csv(\"rfm_segments.csv\", index=False)"
   ]
  },
  {
   "cell_type": "code",
   "execution_count": 9,
   "metadata": {},
   "outputs": [],
   "source": [
    "###############################################################\n",
    "# 8. Create a Function for Reusability\n",
    "###############################################################\n",
    "\n",
    "def create_rfm(dataframe, analysis_date, save_csv=False):\n",
    "    \"\"\"\n",
    "    Function to create an RFM table with segments.\n",
    "    \n",
    "    Parameters:\n",
    "        dataframe (pd.DataFrame): The transaction data.\n",
    "        analysis_date (datetime): The date of analysis.\n",
    "        save_csv (bool): Whether to save the RFM table to a CSV file.\n",
    "        \n",
    "    Returns:\n",
    "        rfm (pd.DataFrame): The RFM table with segments.\n",
    "    \"\"\"\n",
    "    dataframe = dataframe.copy()\n",
    "    \n",
    "    # Data preparation\n",
    "    dataframe[\"TotalPrice\"] = dataframe[\"Quantity\"] * dataframe[\"Price\"]\n",
    "    dataframe.dropna(subset=['Customer ID'], inplace=True)\n",
    "    dataframe = dataframe[~dataframe[\"Invoice\"].astype(str).str.contains(\"C\", na=False)]\n",
    "    dataframe = dataframe[dataframe[\"Quantity\"] > 0]\n",
    "    \n",
    "    # Calculate RFM metrics\n",
    "    rfm = dataframe.groupby('Customer ID').agg({\n",
    "        'InvoiceDate': lambda x: (analysis_date - x.max()).days,\n",
    "        'Invoice': 'nunique',\n",
    "        'TotalPrice': 'sum'\n",
    "    })\n",
    "    rfm.columns = ['Recency', 'Frequency', 'Monetary']\n",
    "    rfm = rfm[rfm['Monetary'] > 0]\n",
    "    \n",
    "    # Calculate RFM scores\n",
    "    rfm[\"RecencyScore\"] = pd.qcut(rfm['Recency'], 5, labels=[5, 4, 3, 2, 1])\n",
    "    rfm[\"FrequencyScore\"] = pd.qcut(rfm['Frequency'].rank(method=\"first\"), 5, labels=[1, 2, 3, 4, 5])\n",
    "    rfm[\"MonetaryScore\"] = pd.qcut(rfm['Monetary'], 5, labels=[1, 2, 3, 4, 5])\n",
    "    rfm[\"RFMScore\"] = rfm[\"RecencyScore\"].astype(str) + rfm[\"FrequencyScore\"].astype(str)\n",
    "    \n",
    "    # Map RFM scores to segments\n",
    "    rfm['Segment'] = rfm['RFMScore'].replace(segment_map, regex=True)\n",
    "    \n",
    "    if save_csv:\n",
    "        rfm.reset_index(inplace=True)\n",
    "        rfm.to_csv(\"rfm_segments.csv\", index=False)\n",
    "    \n",
    "    return rfm\n",
    "\n",
    "# Example usage\n",
    "rfm_table = create_rfm(data, analysis_date=dt.datetime(2010, 12, 11), save_csv=True)"
   ]
  },
  {
   "attachments": {},
   "cell_type": "markdown",
   "metadata": {},
   "source": [
    "## Conclusion"
   ]
  },
  {
   "attachments": {},
   "cell_type": "markdown",
   "metadata": {},
   "source": [
    "### RFM Segmentation Insights and Action Plan"
   ]
  },
  {
   "attachments": {},
   "cell_type": "markdown",
   "metadata": {},
   "source": [
    "This analysis categorizes customers into nine distinct segments based on **Recency, Frequency, and Monetary (RFM)** metrics. Below are tailored strategies for each segment and an overall action plan to drive business growth:"
   ]
  },
  {
   "attachments": {},
   "cell_type": "markdown",
   "metadata": {},
   "source": [
    "1. Champions\n",
    "\n",
    "- Insights : Most valuable customers with the highest frequency, recency, and spending.\n",
    "- Action Plan\n",
    "    - Reward their loyalty with exclusive benefits, early access, or premium offers.\n",
    "    - Provide upselling opportunities with high-value products or bundles.\n",
    "    - Involve them in feedback initiatives to improve services and reinforce their connection to the brand.\n"
   ]
  },
  {
   "attachments": {},
   "cell_type": "markdown",
   "metadata": {},
   "source": [
    "2. Loyal Customers\n",
    "\n",
    "- Insights : Regular buyers with strong brand loyalty and high spending, though slightly less recent than Champions.\n",
    "- Action Plan\n",
    "    - Strengthen engagement through loyalty programs and personalized campaigns.\n",
    "    - Offer occasional surprise rewards or discounts to maintain their trust.\n",
    "    - Encourage them to act as brand advocates through referral incentives."
   ]
  },
  {
   "attachments": {},
   "cell_type": "markdown",
   "metadata": {},
   "source": [
    "3. At Risk\n",
    "\n",
    "- Insights : Previously frequent, high-spending customers who have not interacted recently.\n",
    "- Action Plan\n",
    "    - Deploy win-back campaigns with personalized, time-sensitive offers.\n",
    "    - Use targeted communication to remind them of their past interactions and loyalty points.\n",
    "    - Address potential concerns or dissatisfaction through surveys or direct communication."
   ]
  },
  {
   "attachments": {},
   "cell_type": "markdown",
   "metadata": {},
   "source": [
    "4. Hibernating\n",
    "\n",
    "- Insights : The largest segment with poor recency, low frequency, and minimal spending.\n",
    "- Action Plan\n",
    "    - Run cost-effective reactivation campaigns to re-engage this segment.\n",
    "    - Investigate potential causes of disengagement, such as market competition or product fit.\n",
    "    - Focus on revitalizing only customers showing interest or responsiveness to marketing efforts."
   ]
  },
  {
   "attachments": {},
   "cell_type": "markdown",
   "metadata": {},
   "source": [
    "5. Potential Loyalists\n",
    "\n",
    "- Insights : Customers with recent interactions and moderate spending, indicating growth potential.\n",
    "- Action Plan\n",
    "    - Encourage repeat purchases with tailored promotions and recommendations.\n",
    "    - Enhance their experience through excellent customer service and engagement.\n",
    "    - Monitor their behavior closely to transition them into Loyal Customers."
   ]
  },
  {
   "attachments": {},
   "cell_type": "markdown",
   "metadata": {},
   "source": [
    "6. Need Attention\n",
    "\n",
    "- Insights : Moderate engagement but at risk of losing interest due to low frequency.\n",
    "- Action Plan\n",
    "    - Reignite their interest with personalized communication and attractive offers.\n",
    "    - Showcase products or services related to their past purchases to stimulate repeat sales.\n",
    "    - Create a sense of urgency with limited-time discounts or bundled deals."
   ]
  },
  {
   "attachments": {},
   "cell_type": "markdown",
   "metadata": {},
   "source": [
    "7. New Customers\n",
    "\n",
    "- Insights : First-time buyers still exploring the brand.\n",
    "- Action Plan\n",
    "     - Welcome them warmly with educational content and onboarding campaigns\n",
    "     - Offer discounts or free trials to encourage a second purchase.\n",
    "     - Gather feedback on their first experience to improve future customer journeys."
   ]
  },
  {
   "attachments": {},
   "cell_type": "markdown",
   "metadata": {},
   "source": [
    "8. Promising\n",
    "\n",
    "- Insights : Customers with moderate recency and low frequency who show potential for higher engagement.\n",
    "- Action Plan\n",
    "    - Use data-driven recommendations to cross-sell or upsell relevant products.\n",
    "    - Provide incentives for repeat purchases, such as loyalty points or free shipping.\n",
    "    - Test engagement through personalized campaigns targeting their specific needs."
   ]
  },
  {
   "attachments": {},
   "cell_type": "markdown",
   "metadata": {},
   "source": [
    "9. Cannot Lose\n",
    "\n",
    "- Insights : High-value, frequent buyers who are at significant risk of churn.\n",
    "- Action Plan\n",
    "    - Prioritize retention efforts with direct, personalized offers.\n",
    "    - Deliver exclusive VIP benefits or recognition programs to restore their interest.\n",
    "    - Act quickly to identify and address the reasons for disengagement."
   ]
  },
  {
   "attachments": {},
   "cell_type": "markdown",
   "metadata": {},
   "source": [
    "### General Recommendatoins"
   ]
  },
  {
   "attachments": {},
   "cell_type": "markdown",
   "metadata": {},
   "source": [
    "1. Prioritize High-Value Segments (Champions, Loyal Customers, Cannot Lose):\n",
    "    - Focus investments on retaining these groups, as they drive the majority of revenue.\n",
    "\n",
    "2. Target Growth Segments (Potential Loyalists, Promising):\n",
    "    - Nurture these segments to develop them into Loyal Customers or Champions through personalized campaigns.\n",
    "\n",
    "3. Re-engage At Risk and Hibernating Customers:\n",
    "    - Allocate resources carefully, focusing on those showing responsiveness or potential.\n",
    "\n",
    "4. Utilize Data Analytics:\n",
    "    - Continuously track RFM metrics to evaluate campaign effectiveness and adapt strategies accordingly.\n",
    "\n",
    "5. Foster a Feedback Loop:\n",
    "    - Collect insights from Champions and Loyal Customers to enhance products and customer experiences, ensuring long-term loyalty.\n",
    "\n",
    "By aligning strategies with the unique needs of each segment, the company can maximize customer lifetime value, boost engagement, and foster sustainable growth."
   ]
  }
 ],
 "metadata": {
  "kernelspec": {
   "display_name": "Python 3",
   "language": "python",
   "name": "python3"
  },
  "language_info": {
   "codemirror_mode": {
    "name": "ipython",
    "version": 3
   },
   "file_extension": ".py",
   "mimetype": "text/x-python",
   "name": "python",
   "nbconvert_exporter": "python",
   "pygments_lexer": "ipython3",
   "version": "3.11.3"
  },
  "orig_nbformat": 4,
  "vscode": {
   "interpreter": {
    "hash": "b0fa6594d8f4cbf19f97940f81e996739fb7646882a419484c72d19e05852a7e"
   }
  }
 },
 "nbformat": 4,
 "nbformat_minor": 2
}
