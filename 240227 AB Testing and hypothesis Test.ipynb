{
 "cells": [
  {
   "cell_type": "markdown",
   "id": "0b337b13",
   "metadata": {},
   "source": [
    "# The Great Divide: A/B Testing and Hypothesis Test"
   ]
  },
  {
   "cell_type": "markdown",
   "id": "e618c6cb",
   "metadata": {},
   "source": [
    "[**Analysis 참고 레퍼런스**](https://www.kaggle.com/code/phchen5/the-great-divide-a-b-testing-and-hypothesis-test/notebook)"
   ]
  },
  {
   "cell_type": "code",
   "execution_count": 1,
   "id": "0ac47280",
   "metadata": {},
   "outputs": [],
   "source": [
    "import pandas as pd\n",
    "import numpy as np\n",
    "import matplotlib.pyplot as plt\n",
    "import seaborn as sns\n",
    "sns.set_style(\"darkgrid\")\n",
    "\n",
    "import scipy.stats as stats\n",
    "from statsmodels.stats.proportion import proportions_ztest"
   ]
  },
  {
   "cell_type": "code",
   "execution_count": 2,
   "id": "7eb95d7f",
   "metadata": {},
   "outputs": [],
   "source": [
    "import warnings\n",
    "# 경고메세지 끄기\n",
    "warnings.filterwarnings(action='ignore')"
   ]
  },
  {
   "cell_type": "markdown",
   "id": "77943291",
   "metadata": {},
   "source": [
    "# Dataset : Mobile Game"
   ]
  },
  {
   "cell_type": "markdown",
   "id": "15c20479",
   "metadata": {},
   "source": [
    "- userid - the userid is just the user id. Each unique id represents a unique player. Nothing special here.\n",
    "- version - version takes on two values: gate_30 and gate_40. When users are playing this game, they encounter gates that force them to wait a while before they can progress. gate_30 and gate_40 just means that the gate is placed at level 30 and level 40, respectively. version is also our group of interest. We want to perform A/B testing to determine whether placing the gate at these two different levels would impact player retention and game rounds.\n",
    "- sum_gamerounds - the number of game rounds played by the user in the first week of installation\n",
    "- retention_1 (bool) - whether the user came back to play the game 1 day after installation\n",
    "- retention_7 (bool) - whether the user came back to play the game 7 days after installation"
   ]
  },
  {
   "cell_type": "markdown",
   "id": "02a10330",
   "metadata": {},
   "source": [
    "-> 레벨 30과 레벨 40에 게이트를 배치하는 것이 리텐션과 게임 라운드에 어떤 영향을 미치는지 확인"
   ]
  },
  {
   "cell_type": "code",
   "execution_count": 3,
   "id": "cbb0d9c7",
   "metadata": {},
   "outputs": [
    {
     "data": {
      "text/html": [
       "<div>\n",
       "<style scoped>\n",
       "    .dataframe tbody tr th:only-of-type {\n",
       "        vertical-align: middle;\n",
       "    }\n",
       "\n",
       "    .dataframe tbody tr th {\n",
       "        vertical-align: top;\n",
       "    }\n",
       "\n",
       "    .dataframe thead th {\n",
       "        text-align: right;\n",
       "    }\n",
       "</style>\n",
       "<table border=\"1\" class=\"dataframe\">\n",
       "  <thead>\n",
       "    <tr style=\"text-align: right;\">\n",
       "      <th></th>\n",
       "      <th>userid</th>\n",
       "      <th>version</th>\n",
       "      <th>sum_gamerounds</th>\n",
       "      <th>retention_1</th>\n",
       "      <th>retention_7</th>\n",
       "    </tr>\n",
       "  </thead>\n",
       "  <tbody>\n",
       "    <tr>\n",
       "      <th>7258</th>\n",
       "      <td>803963</td>\n",
       "      <td>gate_40</td>\n",
       "      <td>3</td>\n",
       "      <td>False</td>\n",
       "      <td>False</td>\n",
       "    </tr>\n",
       "    <tr>\n",
       "      <th>85992</th>\n",
       "      <td>9524767</td>\n",
       "      <td>gate_30</td>\n",
       "      <td>9</td>\n",
       "      <td>False</td>\n",
       "      <td>False</td>\n",
       "    </tr>\n",
       "    <tr>\n",
       "      <th>31528</th>\n",
       "      <td>3508809</td>\n",
       "      <td>gate_40</td>\n",
       "      <td>93</td>\n",
       "      <td>True</td>\n",
       "      <td>False</td>\n",
       "    </tr>\n",
       "    <tr>\n",
       "      <th>48363</th>\n",
       "      <td>5362272</td>\n",
       "      <td>gate_40</td>\n",
       "      <td>9</td>\n",
       "      <td>False</td>\n",
       "      <td>False</td>\n",
       "    </tr>\n",
       "    <tr>\n",
       "      <th>58289</th>\n",
       "      <td>6454300</td>\n",
       "      <td>gate_30</td>\n",
       "      <td>76</td>\n",
       "      <td>True</td>\n",
       "      <td>False</td>\n",
       "    </tr>\n",
       "  </tbody>\n",
       "</table>\n",
       "</div>"
      ],
      "text/plain": [
       "        userid  version  sum_gamerounds  retention_1  retention_7\n",
       "7258    803963  gate_40               3        False        False\n",
       "85992  9524767  gate_30               9        False        False\n",
       "31528  3508809  gate_40              93         True        False\n",
       "48363  5362272  gate_40               9        False        False\n",
       "58289  6454300  gate_30              76         True        False"
      ]
     },
     "execution_count": 3,
     "metadata": {},
     "output_type": "execute_result"
    }
   ],
   "source": [
    "data = pd.read_csv('/Users/gwangyongkim/Documents/Python/AB test(ex)/cookie_cats.csv')\n",
    "data.sample(5)"
   ]
  },
  {
   "cell_type": "code",
   "execution_count": 4,
   "id": "0274fbbe",
   "metadata": {},
   "outputs": [
    {
     "data": {
      "text/plain": [
       "(90189, 5)"
      ]
     },
     "execution_count": 4,
     "metadata": {},
     "output_type": "execute_result"
    }
   ],
   "source": [
    "data.shape"
   ]
  },
  {
   "cell_type": "markdown",
   "id": "1fe43e44",
   "metadata": {},
   "source": [
    "### Exploratory Data Analysis (EDA)"
   ]
  },
  {
   "cell_type": "markdown",
   "id": "beff089d",
   "metadata": {},
   "source": [
    "Now let's take a deeper dive into our dataset by constructing some data visualizations. We'll start with the distribution for version, our group of interest."
   ]
  },
  {
   "cell_type": "code",
   "execution_count": 5,
   "id": "db6d85d4",
   "metadata": {},
   "outputs": [
    {
     "data": {
      "text/plain": [
       "<Axes: xlabel='version', ylabel='count'>"
      ]
     },
     "execution_count": 5,
     "metadata": {},
     "output_type": "execute_result"
    },
    {
     "data": {
      "image/png": "[encoded data removed]",
      "text/plain": [
       "<Figure size 640x480 with 1 Axes>"
      ]
     },
     "metadata": {},
     "output_type": "display_data"
    }
   ],
   "source": [
    "sns.countplot(data=data, x=\"version\")"
   ]
  },
  {
   "cell_type": "code",
   "execution_count": 6,
   "id": "712e10b4",
   "metadata": {},
   "outputs": [
    {
     "data": {
      "text/html": [
       "<div>\n",
       "<style scoped>\n",
       "    .dataframe tbody tr th:only-of-type {\n",
       "        vertical-align: middle;\n",
       "    }\n",
       "\n",
       "    .dataframe tbody tr th {\n",
       "        vertical-align: top;\n",
       "    }\n",
       "\n",
       "    .dataframe thead th {\n",
       "        text-align: right;\n",
       "    }\n",
       "</style>\n",
       "<table border=\"1\" class=\"dataframe\">\n",
       "  <thead>\n",
       "    <tr style=\"text-align: right;\">\n",
       "      <th></th>\n",
       "      <th>count</th>\n",
       "      <th>mean</th>\n",
       "      <th>std</th>\n",
       "      <th>min</th>\n",
       "      <th>25%</th>\n",
       "      <th>50%</th>\n",
       "      <th>75%</th>\n",
       "      <th>max</th>\n",
       "    </tr>\n",
       "    <tr>\n",
       "      <th>version</th>\n",
       "      <th></th>\n",
       "      <th></th>\n",
       "      <th></th>\n",
       "      <th></th>\n",
       "      <th></th>\n",
       "      <th></th>\n",
       "      <th></th>\n",
       "      <th></th>\n",
       "    </tr>\n",
       "  </thead>\n",
       "  <tbody>\n",
       "    <tr>\n",
       "      <th>gate_30</th>\n",
       "      <td>44700.0</td>\n",
       "      <td>52.456264</td>\n",
       "      <td>256.716423</td>\n",
       "      <td>0.0</td>\n",
       "      <td>5.0</td>\n",
       "      <td>17.0</td>\n",
       "      <td>50.0</td>\n",
       "      <td>49854.0</td>\n",
       "    </tr>\n",
       "    <tr>\n",
       "      <th>gate_40</th>\n",
       "      <td>45489.0</td>\n",
       "      <td>51.298776</td>\n",
       "      <td>103.294416</td>\n",
       "      <td>0.0</td>\n",
       "      <td>5.0</td>\n",
       "      <td>16.0</td>\n",
       "      <td>52.0</td>\n",
       "      <td>2640.0</td>\n",
       "    </tr>\n",
       "  </tbody>\n",
       "</table>\n",
       "</div>"
      ],
      "text/plain": [
       "           count       mean         std  min  25%   50%   75%      max\n",
       "version                                                               \n",
       "gate_30  44700.0  52.456264  256.716423  0.0  5.0  17.0  50.0  49854.0\n",
       "gate_40  45489.0  51.298776  103.294416  0.0  5.0  16.0  52.0   2640.0"
      ]
     },
     "execution_count": 6,
     "metadata": {},
     "output_type": "execute_result"
    }
   ],
   "source": [
    "data.groupby('version')['sum_gamerounds'].describe()"
   ]
  },
  {
   "cell_type": "markdown",
   "id": "cc3bd410",
   "metadata": {},
   "source": [
    "- 두 값의 갯수가 거의 45,000 수준으로 거의 동일"
   ]
  },
  {
   "cell_type": "code",
   "execution_count": 7,
   "id": "7110688b",
   "metadata": {},
   "outputs": [
    {
     "data": {
      "text/plain": [
       "<Axes: xlabel='sum_gamerounds', ylabel='Count'>"
      ]
     },
     "execution_count": 7,
     "metadata": {},
     "output_type": "execute_result"
    },
    {
     "data": {
      "image/png": "[encoded data removed]",
      "text/plain": [
       "<Figure size 640x480 with 1 Axes>"
      ]
     },
     "metadata": {},
     "output_type": "display_data"
    }
   ],
   "source": [
    "sns.histplot(data=data, x=\"sum_gamerounds\", bins=50)"
   ]
  },
  {
   "cell_type": "markdown",
   "id": "e841deef",
   "metadata": {},
   "source": [
    "히스토그램 오른쪽의 값이 없는 것 처럼 보이지만, 실제로는 값이 있기 때문에 박스플롯으로 재확인"
   ]
  },
  {
   "cell_type": "code",
   "execution_count": 8,
   "id": "3372cec5",
   "metadata": {},
   "outputs": [
    {
     "data": {
      "text/plain": [
       "<Axes: xlabel='sum_gamerounds'>"
      ]
     },
     "execution_count": 8,
     "metadata": {},
     "output_type": "execute_result"
    },
    {
     "data": {
      "image/png": "[encoded data removed]",
      "text/plain": [
       "<Figure size 640x480 with 1 Axes>"
      ]
     },
     "metadata": {},
     "output_type": "display_data"
    }
   ],
   "source": [
    "sns.boxplot(data=data, x=\"sum_gamerounds\")"
   ]
  },
  {
   "cell_type": "markdown",
   "id": "148b8d2c",
   "metadata": {},
   "source": [
    "### 이상치(Outlier)"
   ]
  },
  {
   "cell_type": "markdown",
   "id": "19ea5617",
   "metadata": {},
   "source": [
    "installation 이후 1주일 만에 거의 50,000 라운드에 가까운 게임을 플레이한 극단적인 이상값(Outlier)을 가진 플레이어가 한 명 존재\n",
    "- 실제로 플레이를 50,000 라운드 가까이 했거나, 버그나 데이터 오류일 가능성\n",
    "\n",
    "-> 이상치 제거가 필요"
   ]
  },
  {
   "cell_type": "markdown",
   "id": "3fef3802",
   "metadata": {},
   "source": [
    "### 이상치 제거"
   ]
  },
  {
   "cell_type": "code",
   "execution_count": 9,
   "id": "cbd814e9",
   "metadata": {},
   "outputs": [],
   "source": [
    "data = data.drop(data[data.sum_gamerounds > 40000].index)"
   ]
  },
  {
   "cell_type": "code",
   "execution_count": 10,
   "id": "c24b1141",
   "metadata": {},
   "outputs": [
    {
     "data": {
      "text/plain": [
       "<Axes: xlabel='sum_gamerounds'>"
      ]
     },
     "execution_count": 10,
     "metadata": {},
     "output_type": "execute_result"
    },
    {
     "data": {
      "image/png": "[encoded data removed]",
      "text/plain": [
       "<Figure size 640x480 with 1 Axes>"
      ]
     },
     "metadata": {},
     "output_type": "display_data"
    }
   ],
   "source": [
    "sns.boxplot(data=data, x=\"sum_gamerounds\")"
   ]
  },
  {
   "cell_type": "markdown",
   "id": "d2903c6a",
   "metadata": {},
   "source": [
    "리텐션 데이터 확인"
   ]
  },
  {
   "cell_type": "code",
   "execution_count": 11,
   "id": "376c8622",
   "metadata": {},
   "outputs": [
    {
     "data": {
      "text/plain": [
       "<Axes: xlabel='retention_1', ylabel='count'>"
      ]
     },
     "execution_count": 11,
     "metadata": {},
     "output_type": "execute_result"
    },
    {
     "data": {
      "image/png": "[encoded data removed]",
      "text/plain": [
       "<Figure size 640x480 with 1 Axes>"
      ]
     },
     "metadata": {},
     "output_type": "display_data"
    }
   ],
   "source": [
    "sns.countplot(data=data, x=\"retention_1\")"
   ]
  },
  {
   "cell_type": "code",
   "execution_count": 12,
   "id": "fdbfffa3",
   "metadata": {},
   "outputs": [
    {
     "data": {
      "text/plain": [
       "<Axes: xlabel='retention_7', ylabel='count'>"
      ]
     },
     "execution_count": 12,
     "metadata": {},
     "output_type": "execute_result"
    },
    {
     "data": {
      "image/png": "[encoded data removed]",
      "text/plain": [
       "<Figure size 640x480 with 1 Axes>"
      ]
     },
     "metadata": {},
     "output_type": "display_data"
    }
   ],
   "source": [
    "sns.countplot(data=data, x=\"retention_7\")"
   ]
  },
  {
   "cell_type": "code",
   "execution_count": 13,
   "id": "71720430",
   "metadata": {
    "scrolled": false
   },
   "outputs": [
    {
     "data": {
      "text/plain": [
       "<Axes: xlabel='sum_gamerounds', ylabel='version'>"
      ]
     },
     "execution_count": 13,
     "metadata": {},
     "output_type": "execute_result"
    },
    {
     "data": {
      "image/png": "[encoded data removed]",
      "text/plain": [
       "<Figure size 1500x500 with 1 Axes>"
      ]
     },
     "metadata": {},
     "output_type": "display_data"
    }
   ],
   "source": [
    "# version 별 sum_gamegrounds 데이터 분포 확인\n",
    "sns.set(rc={'figure.figsize':(15, 5)})\n",
    "#plot boxplot\n",
    "sns.boxplot(data=data, x=\"sum_gamerounds\", y=\"version\")"
   ]
  },
  {
   "cell_type": "markdown",
   "id": "e5b896c0",
   "metadata": {},
   "source": [
    "sum_gamegrounds에 대한 조금 더 구체적인 통계 데이터 확인"
   ]
  },
  {
   "cell_type": "code",
   "execution_count": 14,
   "id": "d2b79520",
   "metadata": {},
   "outputs": [
    {
     "data": {
      "text/plain": [
       "count    90188.000000\n",
       "mean        51.320253\n",
       "std        102.682719\n",
       "min          0.000000\n",
       "25%          5.000000\n",
       "50%         16.000000\n",
       "75%         51.000000\n",
       "max       2961.000000\n",
       "Name: sum_gamerounds, dtype: float64"
      ]
     },
     "execution_count": 14,
     "metadata": {},
     "output_type": "execute_result"
    }
   ],
   "source": [
    "data.sum_gamerounds.describe()"
   ]
  },
  {
   "cell_type": "markdown",
   "id": "6512e39c",
   "metadata": {},
   "source": [
    "평균(mean)이 51.32 이므로, 게임 라운드가 적은 유저에 대해 히스토그램 확인"
   ]
  },
  {
   "cell_type": "code",
   "execution_count": 15,
   "id": "527850ce",
   "metadata": {},
   "outputs": [
    {
     "data": {
      "text/plain": [
       "(0.0, 30.0)"
      ]
     },
     "execution_count": 15,
     "metadata": {},
     "output_type": "execute_result"
    },
    {
     "data": {
      "image/png": "[encoded data removed]",
      "text/plain": [
       "<Figure size 700x500 with 1 Axes>"
      ]
     },
     "metadata": {},
     "output_type": "display_data"
    }
   ],
   "source": [
    "sns.set(rc={'figure.figsize':(7, 5)})\n",
    "#plot histogram\n",
    "sns.histplot(data[\"sum_gamerounds\"], bins=2961)\n",
    "#limit x-axis to range (0, 200)\n",
    "plt.xlim(0, 30)"
   ]
  },
  {
   "cell_type": "markdown",
   "id": "39241a10",
   "metadata": {},
   "source": [
    "installation 이후 첫 주에 1번만 플레이하는 경우가 가장 많고, 한 번도 플레이하지 않는 경우도 많은 숫자로 나타남\n",
    "- 이를 해결하기 위한 다음 과제로 선정"
   ]
  },
  {
   "cell_type": "markdown",
   "id": "27b98ccf",
   "metadata": {},
   "source": [
    "다음으로, version별 retention 지표 확인"
   ]
  },
  {
   "cell_type": "code",
   "execution_count": 16,
   "id": "a1a9138f",
   "metadata": {},
   "outputs": [
    {
     "data": {
      "text/plain": [
       "<Axes: xlabel='retention_1', ylabel='count'>"
      ]
     },
     "execution_count": 16,
     "metadata": {},
     "output_type": "execute_result"
    },
    {
     "data": {
      "image/png": "[encoded data removed]",
      "text/plain": [
       "<Figure size 700x500 with 1 Axes>"
      ]
     },
     "metadata": {},
     "output_type": "display_data"
    }
   ],
   "source": [
    "sns.countplot(data=data, x=\"retention_1\", hue=\"version\")"
   ]
  },
  {
   "cell_type": "code",
   "execution_count": 17,
   "id": "d6ab1bcf",
   "metadata": {},
   "outputs": [
    {
     "data": {
      "text/plain": [
       "<Axes: xlabel='retention_7', ylabel='count'>"
      ]
     },
     "execution_count": 17,
     "metadata": {},
     "output_type": "execute_result"
    },
    {
     "data": {
      "image/png": "[encoded data removed]",
      "text/plain": [
       "<Figure size 700x500 with 1 Axes>"
      ]
     },
     "metadata": {},
     "output_type": "display_data"
    }
   ],
   "source": [
    "sns.countplot(data=data, x=\"retention_7\", hue=\"version\")"
   ]
  },
  {
   "cell_type": "markdown",
   "id": "1034924a",
   "metadata": {},
   "source": [
    "두 version 모두 d1, d7에서 크게 봤을 때 큰 차이를 보이지는 않는것 같이 보임\n",
    "하지만, gate_40의 경우 gate_30보다 샘플 수가 많다는 것을 고려했을 때 d7의 카운트 플롯에서 False의 경우 gate_40이 더 높지만, True의 경우 gate_40은 더 낮은 것으로 보임\n",
    "\n",
    "- d1의 경우 d7에 비해 큰 차이를 보이지 않음\n",
    "- gate_40의 d7이 gate_30보다 낮은 것으로 보임\n",
    "- 여기에서 차이를 식별할 수 있고, 이에 대한 테스트를 수행"
   ]
  },
  {
   "cell_type": "markdown",
   "id": "e5cc686c",
   "metadata": {},
   "source": [
    "# 가설 검증 (Hypothesis Testing)"
   ]
  },
  {
   "cell_type": "markdown",
   "id": "a47494ac",
   "metadata": {},
   "source": [
    "- test 그룹별로 분리"
   ]
  },
  {
   "cell_type": "code",
   "execution_count": 18,
   "id": "c4122278",
   "metadata": {},
   "outputs": [],
   "source": [
    "#seperate control and treatment group\n",
    "control = data[data[\"version\"]==\"gate_30\"]\n",
    "treatment = data[data[\"version\"]==\"gate_40\"]"
   ]
  },
  {
   "cell_type": "markdown",
   "id": "9d52a79a",
   "metadata": {},
   "source": [
    "## 분산의 동질성 및 정규성 확인"
   ]
  },
  {
   "cell_type": "markdown",
   "id": "fdcbd96a",
   "metadata": {},
   "source": [
    "### 분산 동질성 테스트"
   ]
  },
  {
   "cell_type": "markdown",
   "id": "8b144284",
   "metadata": {},
   "source": [
    "분산의 동질성 테스트를 위해 Levene의 분산 동질성 테스트 사용\n",
    "- stats.levene()"
   ]
  },
  {
   "cell_type": "markdown",
   "id": "0b510c4c",
   "metadata": {},
   "source": [
    "**1. sum_gamerounds의 분산 동질성 확인**"
   ]
  },
  {
   "cell_type": "code",
   "execution_count": 19,
   "id": "fa1e0116",
   "metadata": {},
   "outputs": [
    {
     "data": {
      "text/plain": [
       "LeveneResult(statistic=0.07510153837481241, pvalue=0.7840494387892463)"
      ]
     },
     "execution_count": 19,
     "metadata": {},
     "output_type": "execute_result"
    }
   ],
   "source": [
    "stats.levene(control['sum_gamerounds'], treatment['sum_gamerounds'])"
   ]
  },
  {
   "cell_type": "markdown",
   "id": "1cba58f6",
   "metadata": {},
   "source": [
    "p-value가 0.05 보다 크기 때문에 \"각 그룹의 모집단에서의 분산이 동일하다\"는 귀무가설을 기각하지 못함\n",
    "- 따라서, 주어진 데이터에서는 등분산성을 가정할 수 \"있음\"\n",
    "- 각 그룹의 모집단에서의 분산이 크게 다르지 않다는 것을 의미함\n",
    "- t-test를 신뢰할 수 있는 분산의 동질성을 보여주는 것으로 해석\n",
    "\n",
    "*-> 결론적으로 분산 동질성 테스트 결과가 유의하지 않기 때문에(p-value가 0.05보다 큼), 분산의 동질성이 있고 t-test를 진행할 수 있음*"
   ]
  },
  {
   "cell_type": "markdown",
   "id": "f22b5752",
   "metadata": {},
   "source": [
    "**2. retention_1 및 retention_7의 분산 동질성 확인**"
   ]
  },
  {
   "cell_type": "code",
   "execution_count": 20,
   "id": "1c08c680",
   "metadata": {},
   "outputs": [
    {
     "data": {
      "text/plain": [
       "LeveneResult(statistic=3.1937812288101903, pvalue=0.07392220630215537)"
      ]
     },
     "execution_count": 20,
     "metadata": {},
     "output_type": "execute_result"
    }
   ],
   "source": [
    "stats.levene(control['retention_1'], treatment['retention_1'])"
   ]
  },
  {
   "cell_type": "code",
   "execution_count": 21,
   "id": "fe890ef6",
   "metadata": {},
   "outputs": [
    {
     "data": {
      "text/plain": [
       "LeveneResult(statistic=9.970119454790488, pvalue=0.0015915357297900119)"
      ]
     },
     "execution_count": 21,
     "metadata": {},
     "output_type": "execute_result"
    }
   ],
   "source": [
    "stats.levene(control['retention_7'], treatment['retention_7'])"
   ]
  },
  {
   "cell_type": "markdown",
   "id": "9d700bbc",
   "metadata": {},
   "source": [
    "retention_1의 경우 p-value가 0.05를 초과하기 때문에 t-test를 신뢰할 수 있는 분산 동질성을 보여주지만, retention_7의 경우 p-value가 0.0015로 0.05보다 작기 때문에 분산의 동질성을 보여주지 못하는 것으로 해석됨\n",
    "\n",
    "- 하지만, 통계 분석 예시를 위해 retention_7이 유의하지 못한 것을 감안해 가설 검증을 계속 진행함"
   ]
  },
  {
   "cell_type": "markdown",
   "id": "feb1b9d0",
   "metadata": {},
   "source": [
    "### 분산 정규성 테스트"
   ]
  },
  {
   "cell_type": "code",
   "execution_count": 22,
   "id": "59117ba2",
   "metadata": {},
   "outputs": [],
   "source": [
    "#distributions for sum_gamerounds\n",
    "gamerounds_control = control[\"sum_gamerounds\"]\n",
    "gamerounds_treatment = treatment[\"sum_gamerounds\"]"
   ]
  },
  {
   "cell_type": "markdown",
   "id": "8642ff96",
   "metadata": {},
   "source": [
    "**1. Shapiro-Wilk Test**\n",
    "- 귀무가설은 데이터가 정규 분포를 따른다는 것이고, p-value가 0.05 유의수준을 사용하면 control 그룹과 treatment 그룹 분포 모두에 대해 귀무 가설을 기각하고 정규분포를 따르지 않는 다는 결론을 내릴 수 있음"
   ]
  },
  {
   "cell_type": "code",
   "execution_count": 23,
   "id": "b3938182",
   "metadata": {},
   "outputs": [
    {
     "name": "stdout",
     "output_type": "stream",
     "text": [
      "Shapiro-Wilk test statistic for control group:  0.48864299058914185\n",
      "P-value for control group:  0.0\n",
      "There is enough evidence to reject the null hypothesis (control group sample does not follow a normal distribution) \n",
      "\n",
      "Shapiro-Wilk test statistic for treatement group:  0.4825664758682251\n",
      "P-value for treatment group:  0.0\n",
      "There is enough evidence to reject the null hypothesis (treatment sample does not follow a normal distribution) \n"
     ]
    }
   ],
   "source": [
    "#compute test statistics and p-value for our two distributions to check for normality\n",
    "control_shapiro_stat, control_shapiro_p = stats.shapiro(gamerounds_control)\n",
    "treatment_shapiro_stat, treatment_shapiro_p = stats.shapiro(gamerounds_treatment)\n",
    "\n",
    "#control group results\n",
    "print(\"Shapiro-Wilk test statistic for control group: \", control_shapiro_stat)\n",
    "print(\"P-value for control group: \", control_shapiro_p)\n",
    "if control_shapiro_p > 0.05:\n",
    "    print(\"There is not enough evidence to reject the null hypothesis (control group sample follows a normal distribution)\")\n",
    "else:\n",
    "    print(\"There is enough evidence to reject the null hypothesis (control group sample does not follow a normal distribution) \")\n",
    "    \n",
    "#treatment group results\n",
    "print(\"\\nShapiro-Wilk test statistic for treatement group: \", treatment_shapiro_stat)\n",
    "print(\"P-value for treatment group: \", treatment_shapiro_p)\n",
    "if treatment_shapiro_p > 0.05:\n",
    "    print(\"There is not enough evidence to reject the null hypothesis (treatment group sample follows a normal distribution)\")\n",
    "else:\n",
    "    print(\"There is enough evidence to reject the null hypothesis (treatment sample does not follow a normal distribution) \")"
   ]
  },
  {
   "cell_type": "markdown",
   "id": "93745fd1",
   "metadata": {},
   "source": [
    "- W값이 0~1 사이의 값을 가지고, 귀무가설이 참이면 이론적으로 1이 나오도록 설계\n",
    "- W값이 0에 가까우면 가까울수록 정규분포와는 다르게 분포되어있다고 봄\n",
    "- p-value 가 0.05보다 작은 경우 귀무가설을 기각"
   ]
  },
  {
   "cell_type": "markdown",
   "id": "4f8faab0",
   "metadata": {},
   "source": [
    "control, treatment 두 그룹 모두 W값이 1보다는 0에 더 가깝고, p-value가 0.05 보다 작기 때문에 정규성을 따른다는 귀무가설을 기각함\n",
    "- *즉, 두 그룹 모두 정규 분포를 따르지 않음*"
   ]
  },
  {
   "cell_type": "markdown",
   "id": "eaea3243",
   "metadata": {},
   "source": [
    "**2. Kolmogorov–Smirnov test (a.k.a KS test)**\n",
    "- 비교하고자 하는 두 분포의 empirical distribution function 의 차이를 특정 기준과 비교하여 기각의 여부를 결정"
   ]
  },
  {
   "cell_type": "code",
   "execution_count": 25,
   "id": "c42bfa62",
   "metadata": {},
   "outputs": [
    {
     "name": "stdout",
     "output_type": "stream",
     "text": [
      "KS test statistic for control group:  0.8724153079945488\n",
      "P-value for control group:  0.0\n",
      "There is enough evidence to reject the null hypothesis (control group sample does not follow a normal distribution) \n",
      "\n",
      "KS test statistic for treatement group:  0.8707186187388001\n",
      "P-value for treatment group:  0.0\n",
      "There is enough evidence to reject the null hypothesis (treatment sample does not follow a normal distribution) \n"
     ]
    }
   ],
   "source": [
    "#compute test statistics and p-value for our two distributions to check for normality\n",
    "control_kstest_stat, control_kstest_p = stats.kstest(gamerounds_control, \"norm\")\n",
    "treatment_kstest_stat, treatment_kstest_p = stats.kstest(gamerounds_treatment, \"norm\")\n",
    "\n",
    "#control group results\n",
    "print(\"KS test statistic for control group: \", control_kstest_stat)\n",
    "print(\"P-value for control group: \", control_kstest_p)\n",
    "if control_kstest_p > 0.05:\n",
    "    print(\"There is not enough evidence to reject the null hypothesis (control group sample follows a normal distribution)\")\n",
    "else:\n",
    "    print(\"There is enough evidence to reject the null hypothesis (control group sample does not follow a normal distribution) \")\n",
    "\n",
    "#treatment group results\n",
    "print(\"\\nKS test statistic for treatement group: \", treatment_kstest_stat)\n",
    "print(\"P-value for treatment group: \", treatment_kstest_p)\n",
    "if treatment_kstest_p > 0.05:\n",
    "    print(\"There is not enough evidence to reject the null hypothesis (treatment group sample follows a normal distribution)\")\n",
    "else:\n",
    "    print(\"There is enough evidence to reject the null hypothesis (treatment sample does not follow a normal distribution) \")"
   ]
  },
  {
   "cell_type": "markdown",
   "id": "2510bb12",
   "metadata": {},
   "source": [
    "- *KS test에서도 두 분포가 모두 정규분포가 아닌 것으로 나타남*"
   ]
  },
  {
   "cell_type": "markdown",
   "id": "aa6aab9d",
   "metadata": {},
   "source": [
    "**3. q-q plot 을 통한 정규성 파악**\n",
    "- 정규성을 시각적으로 확인하는 용도로 사용\n",
    "- 빨간색 선을 기준으로 멀리 떨어져있는 데이터 포인트가 있다면 정상에서 벗어난 편차가 있다는 뜻"
   ]
  },
  {
   "cell_type": "code",
   "execution_count": 24,
   "id": "8605e797",
   "metadata": {},
   "outputs": [
    {
     "data": {
      "image/png": "[encoded data removed]",
      "text/plain": [
       "<Figure size 1000x500 with 2 Axes>"
      ]
     },
     "metadata": {},
     "output_type": "display_data"
    }
   ],
   "source": [
    "sns.set(rc={'figure.figsize':(10, 5)})\n",
    "fig, ax = plt.subplots(1,2)\n",
    "\n",
    "#Q-Q Plot\n",
    "stats.probplot(gamerounds_control, plot=ax[0])\n",
    "stats.probplot(gamerounds_treatment, plot=ax[1])\n",
    "ax[0].set_title(\"Control Group Q-Q plot\")\n",
    "ax[1].set_title(\"Treatment Group Q-Q plot\")\n",
    "plt.show()"
   ]
  },
  {
   "cell_type": "markdown",
   "id": "86f7c26a",
   "metadata": {},
   "source": [
    "위에서 수행한 모든 테스트에서 두 분포가 정규성을 따르지 않는 것으로 확인됨\n",
    "\n",
    "- **Next Step**\n",
    "    - 정규성 조건이 충족되지 않는다면, 어떤 통계를 해야할까?\n",
    "        - 분포에 대한 가정이 필요 없는 비모수 검정법을 사용\n",
    "        - 여기에서는 분포가 왜곡된경우 평균보다 중심 경향을 더 잘 측정할 수 있는 두 중앙값(평균이 아님)을 비교하기 위해 Mann-Whitney U 테스트 진행"
   ]
  },
  {
   "cell_type": "markdown",
   "id": "6c4eb876",
   "metadata": {},
   "source": [
    "### Mann-Whitney U 테스트"
   ]
  },
  {
   "cell_type": "markdown",
   "id": "a0f4c29b",
   "metadata": {},
   "source": [
    "- 두 샘플이 동일한 분포에서 나올 수 있다는 가설\n",
    "    - 중심경향에도 유의미한 차이가 없어야 한다는 것을 의미"
   ]
  },
  {
   "cell_type": "markdown",
   "id": "b95cb2f2",
   "metadata": {},
   "source": [
    "**1. sum_gamerounds 지표**"
   ]
  },
  {
   "cell_type": "code",
   "execution_count": 26,
   "id": "4e36c35c",
   "metadata": {},
   "outputs": [
    {
     "name": "stdout",
     "output_type": "stream",
     "text": [
      "Mann-Whitney U statistic: 1024285761.5\n",
      "P-value: 0.05089155279145376\n",
      "There is not enough evidence to reject the null hypothesis (The two samples may come from the same distribution)\n"
     ]
    }
   ],
   "source": [
    "#perform the Mann-Whitney U test\n",
    "mw_stat, mw_p = stats.mannwhitneyu(gamerounds_control, gamerounds_treatment)\n",
    "\n",
    "#print the results\n",
    "print('Mann-Whitney U statistic:', mw_stat)\n",
    "print('P-value:', mw_p)\n",
    "\n",
    "if mw_p > 0.05:\n",
    "    print(\"There is not enough evidence to reject the null hypothesis (The two samples may come from the same distribution)\")\n",
    "else:\n",
    "    print(\"There is enough evidence to reject the null hypothesis (The two samples may come from different distributions)\")"
   ]
  },
  {
   "cell_type": "markdown",
   "id": "07830832",
   "metadata": {},
   "source": [
    "- 귀무가설을 기각할만한 유의미한 증거가 없다.\n",
    "- 두 데이터 샘플은 동일한 분포에서 나온것이며 version 유형은 sum_gamerounds 값에 영향을 미치지 않는다고 결론을 낼 수 있다.\n",
    "- 그러나 p-value가 0.05를 약간 상회한다는 것으로 보임\n",
    "    - 따라서, 유의수준을 조금 더 높게 수정하면 결과가 유의미해질 수 있음"
   ]
  },
  {
   "cell_type": "markdown",
   "id": "8bd862db",
   "metadata": {},
   "source": [
    "**p-value 0.05 유의수준에서 우리는 version의 gate_30과 gate_40의 sum_gamerounds 에 차이가 없다는 결론**"
   ]
  },
  {
   "cell_type": "markdown",
   "id": "4d58c369",
   "metadata": {},
   "source": [
    "**2. retention_1 지표**"
   ]
  },
  {
   "cell_type": "markdown",
   "id": "20c63b9e",
   "metadata": {},
   "source": [
    "- Two-sample Z Test for proportions\n",
    "    - 어떤 테스트를 수행할지 결정하는 데 있어 가장 중요한 규칙은 표본 크기를 살펴보는 것이다\n",
    "    - 비율에 대한 Two-sample Z Test 에서는 표본 크기가 표본 분포에 대한 정규 근사를 얻을 만큼 충분히 크다고 가정함\n",
    "    - 본 샘플에는 충분히 많은 샘플이 있기 때문에 문제가 없음\n",
    "    - 비율에 대한 Two-sample Z Test를 수행하려면 성공 횟수와, 총 관찰 횟수 값을 가져와서 ratios_ztest 함수(statsmodel.stats.proportion)에 입력해야 한다."
   ]
  },
  {
   "cell_type": "code",
   "execution_count": 27,
   "id": "99fbc55b",
   "metadata": {},
   "outputs": [
    {
     "data": {
      "text/plain": [
       "(array([20034, 20119]), array([44699, 45489]))"
      ]
     },
     "execution_count": 27,
     "metadata": {},
     "output_type": "execute_result"
    }
   ],
   "source": [
    "#number of True values for retention_1 in control and treatment group\n",
    "retention_1_successes = np.array([sum(control[\"retention_1\"]), sum(treatment[\"retention_1\"])])\n",
    "#total number of observations in control and treatment group\n",
    "retention_1_nobs = np.array([len(control[\"retention_1\"]), len(treatment[\"retention_1\"])])  \n",
    "\n",
    "retention_1_successes, retention_1_nobs"
   ]
  },
  {
   "cell_type": "code",
   "execution_count": 28,
   "id": "1e949da0",
   "metadata": {},
   "outputs": [
    {
     "name": "stdout",
     "output_type": "stream",
     "text": [
      "retention_1 Z test statistics two sample proportions: 1.787103509763628\n",
      "retention_1 p-value: 0.0739207603418346\n",
      "There is not enough evidence to reject the null hypothesis (The two proportions may be the same)\n"
     ]
    }
   ],
   "source": [
    "#perform two-sample Z test for proportions\n",
    "retention_1_stat, retention_1_p = proportions_ztest(count=retention_1_successes, nobs=retention_1_nobs)\n",
    "\n",
    "#print the results\n",
    "print(\"retention_1 Z test statistics two sample proportions:\", retention_1_stat)\n",
    "print(\"retention_1 p-value:\", retention_1_p)\n",
    "\n",
    "if retention_1_p > 0.05:\n",
    "    print(\"There is not enough evidence to reject the null hypothesis (The two proportions may be the same)\")\n",
    "else:\n",
    "    print(\"There is enough evidence to reject the null hypothesis (The two proportions may be different)\")"
   ]
  },
  {
   "cell_type": "markdown",
   "id": "d4c0fe48",
   "metadata": {},
   "source": [
    "검정 결과, p-value 0.05 수준에서는 귀무가설을 기각하지 않으며, 두 비율에는 유의한 차이가 없는 것으로 나타남\n",
    "- 이는 데이터 시각화 단계에서 초기 추측과도 일치함"
   ]
  },
  {
   "cell_type": "markdown",
   "id": "57c5f091",
   "metadata": {},
   "source": [
    "### 카이제곱 독립성 검정(Chi-square Test of Independence)"
   ]
  },
  {
   "cell_type": "markdown",
   "id": "b2c18392",
   "metadata": {},
   "source": [
    "다른 옵션인 카이제곱 독립성 검정은 두 범주형 변수간의 독립성을 테스트함\n",
    "- 이 테스트는 비모수적 테스트이므로 데이터의 기본 분포에 대한 가정을 하지 않음\n",
    "- 표본 크기가 작은 경우에는 비율에 대해 Two-sample Z Test 대신 카이제곱 검정을 사용하는 것이 더 적절할 수 있음\n",
    "- 하지만 카이제곱 검정에도 나름의 가정이 있다는 것을 유의\n",
    "    - 두 변수 모두 범주형\n",
    "    - 관측값이 독립적\n",
    "    - 관측값이 상호 베타적\n",
    "    - 셀의 예상 값이 5보다 커야 함\n",
    "    \n",
    "-> 지금은 이 네 가지 가정이 모두 충족되고, 실제로 이 테스트를 수행할 수 있음"
   ]
  },
  {
   "cell_type": "markdown",
   "id": "b192f1ba",
   "metadata": {},
   "source": [
    "두 변수에 대한 관측된 확률 테이블을 구성한 다음 이를 scipy.stats의 chi2_contingency 함수에 입력\n",
    "- 이 함수는 검정 통계, p-value, 자유도 및 예상되는 확률 테이블을 반환"
   ]
  },
  {
   "cell_type": "code",
   "execution_count": 29,
   "id": "25e0bdc7",
   "metadata": {},
   "outputs": [
    {
     "data": {
      "text/plain": [
       "array([[20034, 24665],\n",
       "       [20119, 25370]])"
      ]
     },
     "execution_count": 29,
     "metadata": {},
     "output_type": "execute_result"
    }
   ],
   "source": [
    "#construct observed contingency table\n",
    "retention_1_observed = np.array([[sum(control[\"retention_1\"]), len(control[\"retention_1\"])-sum(control[\"retention_1\"])],\n",
    "                                 [sum(treatment[\"retention_1\"]), len(treatment[\"retention_1\"])-sum(treatment[\"retention_1\"])]])\n",
    "\n",
    "retention_1_observed"
   ]
  },
  {
   "cell_type": "code",
   "execution_count": 30,
   "id": "b8267136",
   "metadata": {},
   "outputs": [
    {
     "name": "stdout",
     "output_type": "stream",
     "text": [
      "Chi-square test statistics for retention_1:  3.169835543170799\n",
      "P-value for retention_1:  0.07500999897705693\n",
      "Degree of freedom:  1\n",
      "[[19900.64029583 24798.35970417]\n",
      " [20252.35970417 25236.64029583]]\n",
      "There is not enough evidence to reject the null hypothesis (The two proportions may be the same)\n"
     ]
    }
   ],
   "source": [
    "#return test statistics, p-value, df and expected contingency table\n",
    "retention_1_chi2_stat, retention_1_chi2_p, retention_1_dof, retention_1_expected = stats.chi2_contingency(retention_1_observed)\n",
    "\n",
    "#print the results\n",
    "print(\"Chi-square test statistics for retention_1: \", retention_1_chi2_stat)\n",
    "print(\"P-value for retention_1: \", retention_1_chi2_p)\n",
    "print(\"Degree of freedom: \", retention_1_dof)\n",
    "print(retention_1_expected)\n",
    "\n",
    "if retention_1_chi2_p > 0.05:\n",
    "    print(\"There is not enough evidence to reject the null hypothesis (The two proportions may be the same)\")\n",
    "else:\n",
    "    print(\"There is enough evidence to reject the null hypothesis (The two proportions may be different)\")"
   ]
  },
  {
   "cell_type": "markdown",
   "id": "c5455910",
   "metadata": {},
   "source": [
    "- 카이제곱 검정 결과는 비율에 대한 Two-sample Z test와 일치함\n",
    "#### 유의수준 0.05에서 귀무가설을 기각하지 못하므로 version과 retention_1 사이에는 관계가 없다는 것으로 결론"
   ]
  },
  {
   "cell_type": "markdown",
   "id": "5e7323d1",
   "metadata": {},
   "source": [
    "**3. retention_7 지표**"
   ]
  },
  {
   "cell_type": "markdown",
   "id": "def1c246",
   "metadata": {},
   "source": [
    "- Two-samle Z test 수행"
   ]
  },
  {
   "cell_type": "code",
   "execution_count": 31,
   "id": "1e0df1b3",
   "metadata": {},
   "outputs": [
    {
     "data": {
      "text/plain": [
       "(array([8501, 8279]), array([44699, 45489]))"
      ]
     },
     "execution_count": 31,
     "metadata": {},
     "output_type": "execute_result"
    }
   ],
   "source": [
    "retention_7_successes = np.array([sum(control[\"retention_7\"]), sum(treatment[\"retention_7\"])])\n",
    "retention_7_nobs = np.array([len(control[\"retention_7\"]), len(treatment[\"retention_7\"])])  \n",
    "\n",
    "retention_7_successes, retention_7_nobs"
   ]
  },
  {
   "cell_type": "code",
   "execution_count": 32,
   "id": "fab0f7ca",
   "metadata": {},
   "outputs": [
    {
     "name": "stdout",
     "output_type": "stream",
     "text": [
      "retention_7 Z test statistics two sample proportions: 3.1574100858819936\n",
      "retention_7 p-value: 0.0015917731773993442\n",
      "There is enough evidence to reject the null hypothesis (The two proportions may be different)\n"
     ]
    }
   ],
   "source": [
    "retention_7_stat, retention_7_p = proportions_ztest(count=retention_7_successes, nobs=retention_7_nobs)\n",
    "\n",
    "print(\"retention_7 Z test statistics two sample proportions:\", retention_7_stat)\n",
    "print(\"retention_7 p-value:\", retention_7_p)\n",
    "\n",
    "if retention_7_p > 0.05:\n",
    "    print(\"There is not enough evidence to reject the null hypothesis (The two proportions may be the same)\")\n",
    "else:\n",
    "    print(\"There is enough evidence to reject the null hypothesis (The two proportions may be different)\")"
   ]
  },
  {
   "cell_type": "markdown",
   "id": "96778b88",
   "metadata": {},
   "source": [
    "- 카이제곱 검정(Chi-squared Test)"
   ]
  },
  {
   "cell_type": "code",
   "execution_count": 33,
   "id": "c41a4302",
   "metadata": {},
   "outputs": [
    {
     "data": {
      "text/plain": [
       "array([[ 8501, 36198],\n",
       "       [ 8279, 37210]])"
      ]
     },
     "execution_count": 33,
     "metadata": {},
     "output_type": "execute_result"
    }
   ],
   "source": [
    "retention_7_observed = np.array([[sum(control[\"retention_7\"]), len(control[\"retention_7\"])-sum(control[\"retention_7\"])],\n",
    "                                 [sum(treatment[\"retention_7\"]), len(treatment[\"retention_7\"])-sum(treatment[\"retention_7\"])]])\n",
    "\n",
    "retention_7_observed"
   ]
  },
  {
   "cell_type": "code",
   "execution_count": 34,
   "id": "a7623249",
   "metadata": {},
   "outputs": [
    {
     "name": "stdout",
     "output_type": "stream",
     "text": [
      "Chi-square test statistics for retention_7:  9.915275528905669\n",
      "P-value for retention_7:  0.0016391259678654423\n",
      "Degree of freedom:  1\n",
      "[[ 8316.50796115 36382.49203885]\n",
      " [ 8463.49203885 37025.50796115]]\n",
      "There is enough evidence to reject the null hypothesis (The two proportions may be different)\n"
     ]
    }
   ],
   "source": [
    "retention_7_chi2_stat, retention_7_chi2_p, retention_7_dof, retention_7_expected = stats.chi2_contingency(retention_7_observed)\n",
    "\n",
    "print(\"Chi-square test statistics for retention_7: \", retention_7_chi2_stat)\n",
    "print(\"P-value for retention_7: \", retention_7_chi2_p)\n",
    "print(\"Degree of freedom: \", retention_7_dof)\n",
    "print(retention_7_expected)\n",
    "\n",
    "if retention_7_chi2_p > 0.05:\n",
    "    print(\"There is not enough evidence to reject the null hypothesis (The two proportions may be the same)\")\n",
    "else:\n",
    "    print(\"There is enough evidence to reject the null hypothesis (The two proportions may be different)\")"
   ]
  },
  {
   "cell_type": "markdown",
   "id": "9c973a96",
   "metadata": {},
   "source": [
    "**두 테스트 모두 retention_7 비율에 차이가 있음을 나타냄**"
   ]
  },
  {
   "cell_type": "markdown",
   "id": "2a0e8ebf",
   "metadata": {},
   "source": [
    "## 결론"
   ]
  },
  {
   "cell_type": "markdown",
   "id": "2d9fd8bb",
   "metadata": {},
   "source": [
    "1. A/B test 결과 두 version(gate_30, gate_40)간의 차이는 미미한 것으로 나타남\n",
    "    - gate_30과 gate_40의 차이는 플레이어가 각각 30레벨과 40레벨에서 강제로 일시정지한다는 것\n",
    "    - 하지만, 초기 데이터 시각화를 통해 대부분의 플레이어가 게임을 몇 라운드만 플레이한 후 게임을 종료(시작조차 하지 않는경우도 있음)을 알게 되었음\n",
    "    - **즉, 대부분의 플레이어가 30레벨에 도달하지도 않는 것으로 보임**\n",
    "    - sum_gamerounds 및 retention_1(초기 게임 플레이를 측정하는)와 같은 변수에는 version 유형이 중요하지 않음\n",
    "    \n",
    "2. **반대로 retention_7에서는 두 version간에 차이가 있는 것으로 나타남**\n",
    "   - 이 시점에서 대부분의 플레이어는 30레벨 또는 40레벨에 도달했을 가능성이 높ㅇ으므로 version 유형이 실제로 영향을 미칠 수 있을 것으로 보임\n",
    "   - 이 현상에는 여러가지 설명이 있을 수 있지만, 확실한 것은 gate_30이 장기 플레이어 유지 측면에서 gate_40보다 더 나은 설명을 보이고 있음\n",
    "   - 따라서, 서비스에서는 gate_40 보다는 gate_30을 채택해야 하고, 어쩌먄 gate_20 이나 gate_10 으로 숫자를 낮춰야 하는지 확인해볼 수도 있음"
   ]
  }
 ],
 "metadata": {
  "kernelspec": {
   "display_name": "Python 3 (ipykernel)",
   "language": "python",
   "name": "python3"
  },
  "language_info": {
   "codemirror_mode": {
    "name": "ipython",
    "version": 3
   },
   "file_extension": ".py",
   "mimetype": "text/x-python",
   "name": "python",
   "nbconvert_exporter": "python",
   "pygments_lexer": "ipython3",
   "version": "3.11.3"
  }
 },
 "nbformat": 4,
 "nbformat_minor": 5
}
