{
 "cells": [
  {
   "cell_type": "markdown",
   "id": "44d38ca1",
   "metadata": {},
   "source": [
    "# PAIRED SAMPLE T-TEST ASSUMPTIONS"
   ]
  },
  {
   "cell_type": "markdown",
   "id": "32b68b54",
   "metadata": {},
   "source": [
    "[**Analysis 참고 레퍼런스**](https://pythonfordatascienceorg.wordpress.com/paired-samples-t-test-python/)"
   ]
  },
  {
   "cell_type": "markdown",
   "id": "1926f16e",
   "metadata": {},
   "source": [
    "테스트할 가설은 다음과 같다\n",
    "\n",
    "- 귀무 가설(H0) : ud = 0, 이는 표본 1과 표본 2 사이의 평균 차이가 0과 같다는 것을 의미\n",
    "- 대립 가설(H1) : ud ≠ 0, 이는 표본 1과 표본 2 사이의 평균 차이가 0이 아니라는 것을 의미\n",
    "\n",
    "p-값이 검정된 값(가장 일반적으로 0.05)보다 작으면 귀무 가설을 기각할 수 있다"
   ]
  },
  {
   "cell_type": "markdown",
   "id": "500660c1",
   "metadata": {},
   "source": [
    "## 대응표본 T-test 가정"
   ]
  },
  {
   "cell_type": "markdown",
   "id": "cefdb23f",
   "metadata": {},
   "source": [
    "- 치료, 상태 또는 시점 전후의 개인의 혈압을 수집했을 경우"
   ]
  },
  {
   "cell_type": "markdown",
   "id": "e6f8e992",
   "metadata": {},
   "source": [
    "대응표본 t-test 결과를 신뢰할 수 있기 위해서는 다음 가정이 충족되어야 함\n",
    "\n",
    "- 종속변수(DV)는 구간 또는 비율 척도로 측정되는 연속형이어야 한다\n",
    "- 관측치는 독립적이다\n",
    "- DV는 대략 정규 분포를 따라야 한다\n",
    "(정규성에 위반되는 경우, 중대한 위반이 아닌 한 테스트 결과는 유효한 것으로 간주될 수 있음)\n",
    "- DV에는 중요한 이상값(outliers)이 포함되어서는 안됨"
   ]
  },
  {
   "cell_type": "code",
   "execution_count": 1,
   "id": "2a1f1af2",
   "metadata": {},
   "outputs": [],
   "source": [
    "import pandas as pd"
   ]
  },
  {
   "cell_type": "code",
   "execution_count": 2,
   "id": "aeb22b9f",
   "metadata": {
    "scrolled": false
   },
   "outputs": [
    {
     "data": {
      "text/html": [
       "<div>\n",
       "<style scoped>\n",
       "    .dataframe tbody tr th:only-of-type {\n",
       "        vertical-align: middle;\n",
       "    }\n",
       "\n",
       "    .dataframe tbody tr th {\n",
       "        vertical-align: top;\n",
       "    }\n",
       "\n",
       "    .dataframe thead th {\n",
       "        text-align: right;\n",
       "    }\n",
       "</style>\n",
       "<table border=\"1\" class=\"dataframe\">\n",
       "  <thead>\n",
       "    <tr style=\"text-align: right;\">\n",
       "      <th></th>\n",
       "      <th>patient</th>\n",
       "      <th>sex</th>\n",
       "      <th>agegrp</th>\n",
       "      <th>bp_before</th>\n",
       "      <th>bp_after</th>\n",
       "    </tr>\n",
       "  </thead>\n",
       "  <tbody>\n",
       "    <tr>\n",
       "      <th>0</th>\n",
       "      <td>1</td>\n",
       "      <td>Male</td>\n",
       "      <td>30-45</td>\n",
       "      <td>143</td>\n",
       "      <td>153</td>\n",
       "    </tr>\n",
       "    <tr>\n",
       "      <th>1</th>\n",
       "      <td>2</td>\n",
       "      <td>Male</td>\n",
       "      <td>30-45</td>\n",
       "      <td>163</td>\n",
       "      <td>170</td>\n",
       "    </tr>\n",
       "    <tr>\n",
       "      <th>2</th>\n",
       "      <td>3</td>\n",
       "      <td>Male</td>\n",
       "      <td>30-45</td>\n",
       "      <td>153</td>\n",
       "      <td>168</td>\n",
       "    </tr>\n",
       "    <tr>\n",
       "      <th>3</th>\n",
       "      <td>4</td>\n",
       "      <td>Male</td>\n",
       "      <td>30-45</td>\n",
       "      <td>153</td>\n",
       "      <td>142</td>\n",
       "    </tr>\n",
       "    <tr>\n",
       "      <th>4</th>\n",
       "      <td>5</td>\n",
       "      <td>Male</td>\n",
       "      <td>30-45</td>\n",
       "      <td>146</td>\n",
       "      <td>141</td>\n",
       "    </tr>\n",
       "  </tbody>\n",
       "</table>\n",
       "</div>"
      ],
      "text/plain": [
       "   patient   sex agegrp  bp_before  bp_after\n",
       "0        1  Male  30-45        143       153\n",
       "1        2  Male  30-45        163       170\n",
       "2        3  Male  30-45        153       168\n",
       "3        4  Male  30-45        153       142\n",
       "4        5  Male  30-45        146       141"
      ]
     },
     "execution_count": 2,
     "metadata": {},
     "output_type": "execute_result"
    }
   ],
   "source": [
    "df = pd.read_csv('/Users/gwangyongkim/Documents/Python/t_test/blood_pressure.csv')\n",
    "df.head()"
   ]
  },
  {
   "cell_type": "code",
   "execution_count": 3,
   "id": "829f08cf",
   "metadata": {},
   "outputs": [
    {
     "data": {
      "text/html": [
       "<div>\n",
       "<style scoped>\n",
       "    .dataframe tbody tr th:only-of-type {\n",
       "        vertical-align: middle;\n",
       "    }\n",
       "\n",
       "    .dataframe tbody tr th {\n",
       "        vertical-align: top;\n",
       "    }\n",
       "\n",
       "    .dataframe thead th {\n",
       "        text-align: right;\n",
       "    }\n",
       "</style>\n",
       "<table border=\"1\" class=\"dataframe\">\n",
       "  <thead>\n",
       "    <tr style=\"text-align: right;\">\n",
       "      <th></th>\n",
       "      <th>bp_before</th>\n",
       "      <th>bp_after</th>\n",
       "    </tr>\n",
       "  </thead>\n",
       "  <tbody>\n",
       "    <tr>\n",
       "      <th>count</th>\n",
       "      <td>120.000000</td>\n",
       "      <td>120.000000</td>\n",
       "    </tr>\n",
       "    <tr>\n",
       "      <th>mean</th>\n",
       "      <td>156.450000</td>\n",
       "      <td>151.358333</td>\n",
       "    </tr>\n",
       "    <tr>\n",
       "      <th>std</th>\n",
       "      <td>11.389845</td>\n",
       "      <td>14.177622</td>\n",
       "    </tr>\n",
       "    <tr>\n",
       "      <th>min</th>\n",
       "      <td>138.000000</td>\n",
       "      <td>125.000000</td>\n",
       "    </tr>\n",
       "    <tr>\n",
       "      <th>25%</th>\n",
       "      <td>147.000000</td>\n",
       "      <td>140.750000</td>\n",
       "    </tr>\n",
       "    <tr>\n",
       "      <th>50%</th>\n",
       "      <td>154.500000</td>\n",
       "      <td>149.500000</td>\n",
       "    </tr>\n",
       "    <tr>\n",
       "      <th>75%</th>\n",
       "      <td>164.000000</td>\n",
       "      <td>161.000000</td>\n",
       "    </tr>\n",
       "    <tr>\n",
       "      <th>max</th>\n",
       "      <td>185.000000</td>\n",
       "      <td>185.000000</td>\n",
       "    </tr>\n",
       "  </tbody>\n",
       "</table>\n",
       "</div>"
      ],
      "text/plain": [
       "        bp_before    bp_after\n",
       "count  120.000000  120.000000\n",
       "mean   156.450000  151.358333\n",
       "std     11.389845   14.177622\n",
       "min    138.000000  125.000000\n",
       "25%    147.000000  140.750000\n",
       "50%    154.500000  149.500000\n",
       "75%    164.000000  161.000000\n",
       "max    185.000000  185.000000"
      ]
     },
     "execution_count": 3,
     "metadata": {},
     "output_type": "execute_result"
    }
   ],
   "source": [
    "df[['bp_before','bp_after']].describe()"
   ]
  },
  {
   "cell_type": "markdown",
   "id": "13553f6a",
   "metadata": {},
   "source": [
    "## 대응 T-test 예시"
   ]
  },
  {
   "cell_type": "markdown",
   "id": "bbaac651",
   "metadata": {},
   "source": [
    "각 변수에 중요한 특이치가 있는지 확인"
   ]
  },
  {
   "cell_type": "code",
   "execution_count": 4,
   "id": "aa189ff2",
   "metadata": {},
   "outputs": [],
   "source": [
    "from scipy import stats"
   ]
  },
  {
   "cell_type": "code",
   "execution_count": 5,
   "id": "f3341a20",
   "metadata": {},
   "outputs": [],
   "source": [
    "import matplotlib.pyplot as plt"
   ]
  },
  {
   "cell_type": "code",
   "execution_count": 6,
   "id": "71652ecd",
   "metadata": {
    "scrolled": false
   },
   "outputs": [
    {
     "data": {
      "image/png": "[encoded data removed]",
      "text/plain": [
       "<Figure size 700x600 with 1 Axes>"
      ]
     },
     "metadata": {},
     "output_type": "display_data"
    }
   ],
   "source": [
    "plt.figure(figsize=(7, 6)) #크기 지정\n",
    "boxplot = df.boxplot(column = ['bp_before','bp_after'])\n",
    "plt.show()"
   ]
  },
  {
   "cell_type": "markdown",
   "id": "aa3162df",
   "metadata": {},
   "source": [
    "각 변수에는 이상치가 보이지 않기 때문에, 데이터가 정규 분포에서 나온 것인지 테스트 해보자"
   ]
  },
  {
   "cell_type": "code",
   "execution_count": 7,
   "id": "4c03c252",
   "metadata": {},
   "outputs": [
    {
     "data": {
      "image/png": "[encoded data removed]",
      "text/plain": [
       "<Figure size 640x480 with 1 Axes>"
      ]
     },
     "metadata": {},
     "output_type": "display_data"
    }
   ],
   "source": [
    "df['bp_before'].plot(kind=\"hist\", title=\"Blood Pressure Before\", color='blue')\n",
    "plt.savefig('Frequency')"
   ]
  },
  {
   "cell_type": "code",
   "execution_count": 8,
   "id": "3534071a",
   "metadata": {},
   "outputs": [
    {
     "data": {
      "image/png": "[encoded data removed]",
      "text/plain": [
       "<Figure size 640x480 with 1 Axes>"
      ]
     },
     "metadata": {},
     "output_type": "display_data"
    }
   ],
   "source": [
    "df['bp_after'].plot(kind=\"hist\", title=\"Blood Pressure After\", color='red')\n",
    "plt.savefig('Frequency')"
   ]
  },
  {
   "cell_type": "markdown",
   "id": "a5bde32c",
   "metadata": {},
   "source": [
    "데이터의 히스토그램이 정규 분포가 아닌 것으로 보임, 약간의 왜곡이 있는 것으로 보여짐\n",
    "- 데이터가 정규 분포인지 통계적으로 테스트해봐야 함\n",
    "- 이를 테스트 하기 위해 Shapiro-Wilk 테스트 사용\n",
    "- 첫 번째 값은 W 테스트 값이고, 두 번째 값은 p-value"
   ]
  },
  {
   "cell_type": "code",
   "execution_count": 9,
   "id": "3bcf9c4d",
   "metadata": {},
   "outputs": [
    {
     "data": {
      "text/plain": [
       "ShapiroResult(statistic=0.9547785520553589, pvalue=0.0004928281414322555)"
      ]
     },
     "execution_count": 9,
     "metadata": {},
     "output_type": "execute_result"
    }
   ],
   "source": [
    "stats.shapiro(df['bp_before'])"
   ]
  },
  {
   "cell_type": "code",
   "execution_count": 10,
   "id": "c7863d02",
   "metadata": {},
   "outputs": [
    {
     "data": {
      "text/plain": [
       "ShapiroResult(statistic=0.9740641117095947, pvalue=0.0202285498380661)"
      ]
     },
     "execution_count": 10,
     "metadata": {},
     "output_type": "execute_result"
    }
   ],
   "source": [
    "stats.shapiro(df['bp_after'])"
   ]
  },
  {
   "cell_type": "markdown",
   "id": "426f6b8f",
   "metadata": {},
   "source": [
    "두 변수 모두 정규성 가정을 크게 위반함 (p-value가 0.05 보다 작음)\n",
    "- 적절한 대한으로 Wilcoxon signed-rank 테스트를 진행해 볼 수 있음\n",
    "- 그러나, 데모 목적상 짝을 이룬 t-test를 계속 사용해보겠음\n",
    "- 이 분석 결과는 정규성에 대한 가정을 크게 위반하기 때문에 유효한 것으로 간주해서는 안됨"
   ]
  },
  {
   "cell_type": "markdown",
   "id": "110fa7eb",
   "metadata": {},
   "source": [
    "대응표본 t-test를 수행하기 위해서는 stats.ttest_rel() 메서드를 사용"
   ]
  },
  {
   "cell_type": "code",
   "execution_count": 11,
   "id": "0be67a9b",
   "metadata": {},
   "outputs": [
    {
     "data": {
      "text/plain": [
       "TtestResult(statistic=3.3371870510833657, pvalue=0.0011297914644840823, df=119)"
      ]
     },
     "execution_count": 11,
     "metadata": {},
     "output_type": "execute_result"
    }
   ],
   "source": [
    "stats.ttest_rel(df['bp_before'], df['bp_after'])"
   ]
  },
  {
   "cell_type": "markdown",
   "id": "b8f0c2ad",
   "metadata": {},
   "source": [
    "귀무가설을 기각할 수 있는 것으로 보임 (정규성에 대한 가정을 크게 위반하기 때문에 유효한 것으로 간주해서는 안됨)"
   ]
  }
 ],
 "metadata": {
  "kernelspec": {
   "display_name": "Python 3 (ipykernel)",
   "language": "python",
   "name": "python3"
  },
  "language_info": {
   "codemirror_mode": {
    "name": "ipython",
    "version": 3
   },
   "file_extension": ".py",
   "mimetype": "text/x-python",
   "name": "python",
   "nbconvert_exporter": "python",
   "pygments_lexer": "ipython3",
   "version": "3.11.3"
  }
 },
 "nbformat": 4,
 "nbformat_minor": 5
}
