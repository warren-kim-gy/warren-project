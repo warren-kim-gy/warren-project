{
 "cells": [
  {
   "cell_type": "markdown",
   "id": "8bb51bac",
   "metadata": {},
   "source": [
    "# INDEPENDENT T-TEST ASSUMPTIONS"
   ]
  },
  {
   "cell_type": "markdown",
   "id": "a2fb7447",
   "metadata": {},
   "source": [
    "[**Analysis 참고 레퍼런스**](https://pythonfordatascienceorg.wordpress.com/independent-t-test-python/)"
   ]
  },
  {
   "cell_type": "code",
   "execution_count": 1,
   "id": "9d19de5e",
   "metadata": {},
   "outputs": [],
   "source": [
    "import pandas as pd"
   ]
  },
  {
   "cell_type": "code",
   "execution_count": 2,
   "id": "a2f851b9",
   "metadata": {
    "scrolled": false
   },
   "outputs": [
    {
     "data": {
      "text/html": [
       "<div>\n",
       "<style scoped>\n",
       "    .dataframe tbody tr th:only-of-type {\n",
       "        vertical-align: middle;\n",
       "    }\n",
       "\n",
       "    .dataframe tbody tr th {\n",
       "        vertical-align: top;\n",
       "    }\n",
       "\n",
       "    .dataframe thead th {\n",
       "        text-align: right;\n",
       "    }\n",
       "</style>\n",
       "<table border=\"1\" class=\"dataframe\">\n",
       "  <thead>\n",
       "    <tr style=\"text-align: right;\">\n",
       "      <th></th>\n",
       "      <th>sepal_length</th>\n",
       "      <th>sepal_width</th>\n",
       "      <th>petal_length</th>\n",
       "      <th>petal_width</th>\n",
       "      <th>species</th>\n",
       "    </tr>\n",
       "  </thead>\n",
       "  <tbody>\n",
       "    <tr>\n",
       "      <th>0</th>\n",
       "      <td>5.1</td>\n",
       "      <td>3.5</td>\n",
       "      <td>1.4</td>\n",
       "      <td>0.2</td>\n",
       "      <td>Iris-setosa</td>\n",
       "    </tr>\n",
       "    <tr>\n",
       "      <th>1</th>\n",
       "      <td>4.9</td>\n",
       "      <td>3.0</td>\n",
       "      <td>1.4</td>\n",
       "      <td>0.2</td>\n",
       "      <td>Iris-setosa</td>\n",
       "    </tr>\n",
       "    <tr>\n",
       "      <th>2</th>\n",
       "      <td>4.7</td>\n",
       "      <td>3.2</td>\n",
       "      <td>1.3</td>\n",
       "      <td>0.2</td>\n",
       "      <td>Iris-setosa</td>\n",
       "    </tr>\n",
       "    <tr>\n",
       "      <th>3</th>\n",
       "      <td>4.6</td>\n",
       "      <td>3.1</td>\n",
       "      <td>1.5</td>\n",
       "      <td>0.2</td>\n",
       "      <td>Iris-setosa</td>\n",
       "    </tr>\n",
       "    <tr>\n",
       "      <th>4</th>\n",
       "      <td>5.0</td>\n",
       "      <td>3.6</td>\n",
       "      <td>1.4</td>\n",
       "      <td>0.2</td>\n",
       "      <td>Iris-setosa</td>\n",
       "    </tr>\n",
       "  </tbody>\n",
       "</table>\n",
       "</div>"
      ],
      "text/plain": [
       "   sepal_length  sepal_width  petal_length  petal_width      species\n",
       "0           5.1          3.5           1.4          0.2  Iris-setosa\n",
       "1           4.9          3.0           1.4          0.2  Iris-setosa\n",
       "2           4.7          3.2           1.3          0.2  Iris-setosa\n",
       "3           4.6          3.1           1.5          0.2  Iris-setosa\n",
       "4           5.0          3.6           1.4          0.2  Iris-setosa"
      ]
     },
     "execution_count": 2,
     "metadata": {},
     "output_type": "execute_result"
    }
   ],
   "source": [
    "df = pd.read_csv('/Users/gwangyongkim/Documents/Python/t_test/Iris_Data.csv')\n",
    "df.head()"
   ]
  },
  {
   "cell_type": "code",
   "execution_count": 3,
   "id": "b1bd7610",
   "metadata": {},
   "outputs": [
    {
     "data": {
      "text/html": [
       "<div>\n",
       "<style scoped>\n",
       "    .dataframe tbody tr th:only-of-type {\n",
       "        vertical-align: middle;\n",
       "    }\n",
       "\n",
       "    .dataframe tbody tr th {\n",
       "        vertical-align: top;\n",
       "    }\n",
       "\n",
       "    .dataframe thead th {\n",
       "        text-align: right;\n",
       "    }\n",
       "</style>\n",
       "<table border=\"1\" class=\"dataframe\">\n",
       "  <thead>\n",
       "    <tr style=\"text-align: right;\">\n",
       "      <th></th>\n",
       "      <th>count</th>\n",
       "      <th>mean</th>\n",
       "      <th>std</th>\n",
       "      <th>min</th>\n",
       "      <th>25%</th>\n",
       "      <th>50%</th>\n",
       "      <th>75%</th>\n",
       "      <th>max</th>\n",
       "    </tr>\n",
       "    <tr>\n",
       "      <th>species</th>\n",
       "      <th></th>\n",
       "      <th></th>\n",
       "      <th></th>\n",
       "      <th></th>\n",
       "      <th></th>\n",
       "      <th></th>\n",
       "      <th></th>\n",
       "      <th></th>\n",
       "    </tr>\n",
       "  </thead>\n",
       "  <tbody>\n",
       "    <tr>\n",
       "      <th>Iris-setosa</th>\n",
       "      <td>50.0</td>\n",
       "      <td>3.418</td>\n",
       "      <td>0.381024</td>\n",
       "      <td>2.3</td>\n",
       "      <td>3.125</td>\n",
       "      <td>3.4</td>\n",
       "      <td>3.675</td>\n",
       "      <td>4.4</td>\n",
       "    </tr>\n",
       "    <tr>\n",
       "      <th>Iris-versicolor</th>\n",
       "      <td>50.0</td>\n",
       "      <td>2.770</td>\n",
       "      <td>0.313798</td>\n",
       "      <td>2.0</td>\n",
       "      <td>2.525</td>\n",
       "      <td>2.8</td>\n",
       "      <td>3.000</td>\n",
       "      <td>3.4</td>\n",
       "    </tr>\n",
       "    <tr>\n",
       "      <th>Iris-virginica</th>\n",
       "      <td>50.0</td>\n",
       "      <td>2.974</td>\n",
       "      <td>0.322497</td>\n",
       "      <td>2.2</td>\n",
       "      <td>2.800</td>\n",
       "      <td>3.0</td>\n",
       "      <td>3.175</td>\n",
       "      <td>3.8</td>\n",
       "    </tr>\n",
       "  </tbody>\n",
       "</table>\n",
       "</div>"
      ],
      "text/plain": [
       "                 count   mean       std  min    25%  50%    75%  max\n",
       "species                                                             \n",
       "Iris-setosa       50.0  3.418  0.381024  2.3  3.125  3.4  3.675  4.4\n",
       "Iris-versicolor   50.0  2.770  0.313798  2.0  2.525  2.8  3.000  3.4\n",
       "Iris-virginica    50.0  2.974  0.322497  2.2  2.800  3.0  3.175  3.8"
      ]
     },
     "execution_count": 3,
     "metadata": {},
     "output_type": "execute_result"
    }
   ],
   "source": [
    "df.groupby('species')['sepal_width'].describe()"
   ]
  },
  {
   "cell_type": "markdown",
   "id": "823d7681",
   "metadata": {},
   "source": [
    "각 dataframe에 해당 꽃종에 대한 데이터만 포함되는 원본 데이터의 하위집합 2개의 dataframe 생성"
   ]
  },
  {
   "cell_type": "code",
   "execution_count": 4,
   "id": "4b1a607d",
   "metadata": {},
   "outputs": [],
   "source": [
    "setosa = df[(df['species'] == 'Iris-setosa')]\n",
    "versicolor = df[(df['species'] == 'Iris-versicolor')]"
   ]
  },
  {
   "cell_type": "markdown",
   "id": "fecbc5d6",
   "metadata": {},
   "source": [
    "## 독립 t-test 예시"
   ]
  },
  {
   "cell_type": "markdown",
   "id": "c02a235c",
   "metadata": {},
   "source": [
    "- A Group(Iris-setosa)와 B Group(Iris-versicolor) 꽃종 사이에 꽃받침 폭에 유의미한 차이가 있는지 테스트"
   ]
  },
  {
   "cell_type": "markdown",
   "id": "40907e4b",
   "metadata": {},
   "source": [
    "라이브러리 가져오기"
   ]
  },
  {
   "cell_type": "code",
   "execution_count": 5,
   "id": "6e160667",
   "metadata": {},
   "outputs": [],
   "source": [
    "from scipy import stats\n",
    "import matplotlib.pyplot as plt"
   ]
  },
  {
   "cell_type": "markdown",
   "id": "bde6d12f",
   "metadata": {},
   "source": [
    "### 1. t-test를 수행하기 전 가정을 검정해야함"
   ]
  },
  {
   "cell_type": "markdown",
   "id": "79a27a9a",
   "metadata": {},
   "source": [
    "먼저, 분산의 동질성을 테스트하기 위해 Levene의 분산 동질성 테스트를 사용\n",
    "- stats.levene()"
   ]
  },
  {
   "cell_type": "code",
   "execution_count": 6,
   "id": "a27b1902",
   "metadata": {},
   "outputs": [
    {
     "data": {
      "text/plain": [
       "LeveneResult(statistic=0.6635459332943233, pvalue=0.4172859681296204)"
      ]
     },
     "execution_count": 6,
     "metadata": {},
     "output_type": "execute_result"
    }
   ],
   "source": [
    "stats.levene(setosa['sepal_width'], versicolor['sepal_width'])"
   ]
  },
  {
   "cell_type": "markdown",
   "id": "e6042394",
   "metadata": {},
   "source": [
    "p-value가 0.05 보다 크기 때문에 \"각 그룹의 모집단에서의 분산이 동일하다\"는 귀무가설을 기각하지 못함.\n",
    "- 따라서, 주어진 데이터에서는 등분산성을 가정할 수 있음\n",
    "- 각 그룹의 모집단에서의 분산이 크게 다르지 않다는 것을 의미\n",
    "- t-test를 신뢰할 수 있는 분산의 동질성을 보여주는 것으로 해석\n",
    "\n",
    "결론적으로 테스트 결과가 유의하지 않기 때문에 분산의 동질성이 있고, t-test를 계속 진행할 수 있음"
   ]
  },
  {
   "cell_type": "markdown",
   "id": "cc0a69c3",
   "metadata": {},
   "source": [
    "### 2. 정규성 가정 테스트"
   ]
  },
  {
   "cell_type": "markdown",
   "id": "993ca4f4",
   "metadata": {},
   "source": [
    "- A Group : setosa"
   ]
  },
  {
   "cell_type": "code",
   "execution_count": 7,
   "id": "1b24cfe9",
   "metadata": {
    "scrolled": false
   },
   "outputs": [
    {
     "data": {
      "image/png": "[encoded data removed]",
      "text/plain": [
       "<Figure size 640x480 with 1 Axes>"
      ]
     },
     "metadata": {},
     "output_type": "display_data"
    }
   ],
   "source": [
    "setosa['sepal_width'].plot(kind=\"hist\", title=\"Setosa Sepal Width\", color='blue')\n",
    "plt.xlabel(\"Length (units)\")\n",
    "plt.savefig('Setosa_sepal_width')"
   ]
  },
  {
   "cell_type": "markdown",
   "id": "62b9e1b6",
   "metadata": {},
   "source": [
    "- B Group : versicolor"
   ]
  },
  {
   "cell_type": "code",
   "execution_count": 8,
   "id": "3866d69e",
   "metadata": {},
   "outputs": [
    {
     "data": {
      "image/png": "[encoded data removed]",
      "text/plain": [
       "<Figure size 640x480 with 1 Axes>"
      ]
     },
     "metadata": {},
     "output_type": "display_data"
    }
   ],
   "source": [
    "versicolor['sepal_width'].plot(kind=\"hist\", title= \"Versicolor Sepal Width\", color=\"green\")\n",
    "plt.xlabel(\"Length (units)\")\n",
    "plt.savefig('Versicolor_sepal_width')"
   ]
  },
  {
   "cell_type": "markdown",
   "id": "c75f189c",
   "metadata": {},
   "source": [
    "- A/B 두 그룹의 히스토그램을 보면 각 변수가 상당히 정규분포 되어 있는 것처럼 보임\n",
    "- 데이터를 q-q plot으로 시각화하면 정규성을 더 쉽게 파악할 수 있음\n",
    "- q-q plot을 읽는데 익숙하지 않은 경우, 빨간색 선을 기준으로 멀리 떨어져 있는 데이터 포인트가 있다면 정상에서 벗어난 편차가 있다는 뜻"
   ]
  },
  {
   "cell_type": "code",
   "execution_count": 9,
   "id": "879bb4b7",
   "metadata": {
    "scrolled": false
   },
   "outputs": [
    {
     "data": {
      "image/png": "[encoded data removed]",
      "text/plain": [
       "<Figure size 640x480 with 1 Axes>"
      ]
     },
     "metadata": {},
     "output_type": "display_data"
    }
   ],
   "source": [
    "stats.probplot(setosa['sepal_width'], dist=\"norm\", plot= plt)\n",
    "plt.title(\"Setosa Sepal Width Q-Q Plot\")\n",
    "plt.savefig(\"Setosa_qqplot.png\")"
   ]
  },
  {
   "cell_type": "code",
   "execution_count": 10,
   "id": "0bc5599c",
   "metadata": {},
   "outputs": [
    {
     "data": {
      "image/png": "[encoded data removed]",
      "text/plain": [
       "<Figure size 640x480 with 1 Axes>"
      ]
     },
     "metadata": {},
     "output_type": "display_data"
    }
   ],
   "source": [
    "stats.probplot(versicolor['sepal_width'], dist=\"norm\", plot= plt)\n",
    "plt.title(\"Versicolor Sepal Width Q-Q Plot\")\n",
    "plt.savefig(\"versicolor_qqplot.png\")"
   ]
  },
  {
   "cell_type": "markdown",
   "id": "58be7d49",
   "metadata": {},
   "source": [
    "- A Group(setosa) q-q plot에서 정규성에서 약간의 편차가 있지만 큰 위반은 아닌 것으로 해석됨\n",
    "- 전체적으로 데이터는 정규성을 가지고 있는 것으로 해석\n",
    "- 이를 확인하기 위해 stats.shapro() 메서드인 Shapiro-Wilk 정규성 테스트를 사용하여 통계적으로 테스트 할 수 있음\n",
    "- 첫 번째 값은 W 테스트 통계이고, 두 번째 값은 p-value"
   ]
  },
  {
   "cell_type": "markdown",
   "id": "09abaeff",
   "metadata": {},
   "source": [
    "Shapiro Walk 검정 관련 참고 글 : https://statisticsplaybook.com/normality-test/"
   ]
  },
  {
   "cell_type": "code",
   "execution_count": 11,
   "id": "b1c27fe2",
   "metadata": {},
   "outputs": [
    {
     "data": {
      "text/plain": [
       "ShapiroResult(statistic=0.9686915278434753, pvalue=0.20464898645877838)"
      ]
     },
     "execution_count": 11,
     "metadata": {},
     "output_type": "execute_result"
    }
   ],
   "source": [
    "stats.shapiro(setosa['sepal_width'])"
   ]
  },
  {
   "cell_type": "code",
   "execution_count": 12,
   "id": "505ff9a9",
   "metadata": {},
   "outputs": [
    {
     "data": {
      "text/plain": [
       "ShapiroResult(statistic=0.9741330742835999, pvalue=0.33798879384994507)"
      ]
     },
     "execution_count": 12,
     "metadata": {},
     "output_type": "execute_result"
    }
   ],
   "source": [
    "stats.shapiro(versicolor['sepal_width'])"
   ]
  },
  {
   "cell_type": "markdown",
   "id": "2fdd6d5d",
   "metadata": {},
   "source": [
    "정규성 테스트 중 어느것도 정규성 가정을 위반하지 않음\n",
    "- W값이 1에 가깝고, p-vlaue가 0.05 보다 크기 때문에 귀무가설을 기각하지 못함.\n",
    "\n",
    "- 정규성 가정 : 귀무가설(데이터가 정규분포를 따른다) vs. 대립가설(데이터가 정규분포를 따르지 않는다)\n",
    "- W값은 0~1 사이의 값을 가지고, 귀무가설이 참이면 이론적으로 1이 나오도록 설계됨\n",
    "- W값이 0과 가까우면 가까울수록 정규분포와는 다르게 분포되어있다고 봄\n",
    "- 독립 t-test를 수행하려면 stats.ttest_ind() 메서드를 사용"
   ]
  },
  {
   "cell_type": "code",
   "execution_count": 13,
   "id": "cc0b720c",
   "metadata": {},
   "outputs": [
    {
     "data": {
      "text/plain": [
       "Ttest_indResult(statistic=9.282772555558111, pvalue=4.362239016010214e-15)"
      ]
     },
     "execution_count": 13,
     "metadata": {},
     "output_type": "execute_result"
    }
   ],
   "source": [
    "stats.ttest_ind(setosa['sepal_width'], versicolor['sepal_width'])"
   ]
  },
  {
   "cell_type": "markdown",
   "id": "499b7e40",
   "metadata": {},
   "source": [
    "독립 t-test결과가 유의미한 것으로 해석됨\n",
    "- p-value가 0에 가깝기 때문에 귀무가설을 기각할 수 있음"
   ]
  },
  {
   "cell_type": "markdown",
   "id": "cf354876",
   "metadata": {},
   "source": [
    "## 결과 해석"
   ]
  },
  {
   "cell_type": "markdown",
   "id": "3df19198",
   "metadata": {},
   "source": [
    "\"A Group(Iris-setosa)와 B Group(Iris-versicolor) 꽃종 사이에 꽃받침 폭에 유의미한 차이가 있는지 테스트\"\n",
    "\n",
    "- A Group의 평균 꽃받침 폭(M=3.418, SD=0.381)은 B Group(M=2.770, SD=0.314)보다 더 넓고 편차가 큰 것으로 보임\n",
    "- 분산 동질성에 대한 Levene의 검정 결과 분산 동등성(F=0.664, pvalue=0.417)이 나타났으므로 독립 t-test가 신뢰할만함"
   ]
  },
  {
   "cell_type": "markdown",
   "id": "4410a0bb",
   "metadata": {},
   "source": [
    "A Group(Iris-setosa)와 B Group(Iris-versicolor) 꽃종 사이에 꽃받침 폭에 유의미한 차이가 있는것으로 나타남\n",
    "- 두 그룹의 df(degrees of vreedom) = 두 그룹 N을 합하고, 2를 빼서 계산 (df = (50+50) - 2 = 98)\n",
    "- t(98)=9.282, pvalue=4.362239016010214e-15"
   ]
  }
 ],
 "metadata": {
  "kernelspec": {
   "display_name": "Python 3 (ipykernel)",
   "language": "python",
   "name": "python3"
  },
  "language_info": {
   "codemirror_mode": {
    "name": "ipython",
    "version": 3
   },
   "file_extension": ".py",
   "mimetype": "text/x-python",
   "name": "python",
   "nbconvert_exporter": "python",
   "pygments_lexer": "ipython3",
   "version": "3.11.3"
  }
 },
 "nbformat": 4,
 "nbformat_minor": 5
}
